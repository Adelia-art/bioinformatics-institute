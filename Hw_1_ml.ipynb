{
 "cells": [
  {
   "cell_type": "code",
   "execution_count": 33,
   "metadata": {},
   "outputs": [],
   "source": [
    "import csv \n",
    "import numpy as np\n",
    "import pandas as pd\n",
    "import scipy as sp\n",
    "from sklearn.metrics.pairwise import euclidean_distances\n",
    "from sklearn.preprocessing import MinMaxScaler"
   ]
  },
  {
   "cell_type": "markdown",
   "metadata": {},
   "source": [
    "# kNN"
   ]
  },
  {
   "cell_type": "code",
   "execution_count": 2,
   "metadata": {},
   "outputs": [],
   "source": [
    "def kNN(data, attribute, labels, k):\n",
    "    ary = sp.spatial.distance.cdist(data, attribute).flatten()\n",
    "    now_sorted=ary.argsort()\n",
    "    k_nearest=np.zeros(k)\n",
    "    for i in range(k):\n",
    "        k_nearest[i]=now_sorted[i]\n",
    "    counter=0\n",
    "    for i in range(k):\n",
    "        ind=int(k_nearest[0])\n",
    "        ind_next=int(k_nearest[i])\n",
    "        if labels[ind]==labels[ind_next]:\n",
    "            counter+=1\n",
    "        else:\n",
    "            res=labels[ind_next]\n",
    "    if counter>k/2:\n",
    "        result_label=labels[ind]\n",
    "    else:\n",
    "        result_label=res\n",
    "    return result_label"
   ]
  },
  {
   "cell_type": "code",
   "execution_count": 3,
   "metadata": {},
   "outputs": [],
   "source": [
    "def LOO_kNN(data, labels, k):\n",
    "    labels_1=pd.DataFrame(labels)\n",
    "    data_1=pd.DataFrame(data)\n",
    "    counter=0\n",
    "    data_copy=pd.DataFrame(data)\n",
    "    for i in range(data_copy.shape[0]):\n",
    "        rest_data=data_1.drop(data_1.index[i]).values\n",
    "        rest_data_labels=labels_1.drop(labels_1.index[i]).values\n",
    "        test=data_copy.iloc[[i]].values\n",
    "        res=kNN(rest_data, test, rest_data_labels,k)\n",
    "        if res[0]!=labels_1.iloc[[i]].values[0][0]:\n",
    "            counter+=1\n",
    "    res_LOO=counter/(data.shape[0])\n",
    "    return res_LOO"
   ]
  },
  {
   "cell_type": "code",
   "execution_count": 4,
   "metadata": {},
   "outputs": [],
   "source": [
    "def choosing_k(data, labels):\n",
    "    loo_values=np.zeros(10)\n",
    "    i=0\n",
    "    for k in range(1, 11):\n",
    "        print(\"k=\", k)\n",
    "        loo_values[i]=LOO_kNN(data, labels, k)\n",
    "        i+=1\n",
    "        \n",
    "    print(\"loo_values:\", loo_values)\n",
    "    sorted_loo=loo_values.argsort() \n",
    "    best_k=sorted_loo[0]+1\n",
    "    return best_k"
   ]
  },
  {
   "cell_type": "code",
   "execution_count": 5,
   "metadata": {},
   "outputs": [],
   "source": [
    "def accuracy(result, real):\n",
    "    score=0\n",
    "    for i in range(result.shape[0]):\n",
    "        if(result[i]==real[i]): \n",
    "            score+=1\n",
    "    return score/result.shape[0]"
   ]
  },
  {
   "cell_type": "markdown",
   "metadata": {},
   "source": [
    "# Radius Neighbours"
   ]
  },
  {
   "cell_type": "code",
   "execution_count": 6,
   "metadata": {},
   "outputs": [],
   "source": [
    "def RadN(data, attribute, labels, radius):\n",
    "    ary = sp.spatial.distance.cdist(data, attribute).flatten()\n",
    "    index=[]\n",
    "    for i in range(ary.shape[0]):\n",
    "        if ary[i]<radius:\n",
    "            index.append(i)\n",
    "    index=np.array(index)\n",
    "    counter=0;\n",
    "    if index.shape[0]>0:\n",
    "        for i in range(index.shape[0]):\n",
    "            ind=int(index[0])\n",
    "            ind_next=int(index[i])\n",
    "            if labels[ind]==labels[ind_next]:\n",
    "                counter+=1\n",
    "            else:\n",
    "                res=labels[ind_next] \n",
    "        if counter>index.shape[0]/2:\n",
    "            result_label=labels[ind]\n",
    "        else:\n",
    "            result_label=res\n",
    "    if index.shape[0]==0:\n",
    "        result_label=888\n",
    "    return result_label"
   ]
  },
  {
   "cell_type": "code",
   "execution_count": 7,
   "metadata": {},
   "outputs": [],
   "source": [
    "def LOO_RN(data, labels, r):\n",
    "    labels_1=pd.DataFrame(labels)\n",
    "    data_1=pd.DataFrame(data)\n",
    "    counter=0\n",
    "    data_copy=pd.DataFrame(data)\n",
    "    for i in range(data_copy.shape[0]):\n",
    "        rest_data=data_1.drop(data_1.index[i]).values\n",
    "        rest_data_labels=labels_1.drop(labels_1.index[i]).values\n",
    "        test=data_copy.iloc[[i]].values\n",
    "        res=RadN(rest_data, test, rest_data_labels,r)\n",
    "        if res!=888:\n",
    "            if res[0]!=labels_1.iloc[[i]].values[0][0]:\n",
    "                counter+=1\n",
    "        else:\n",
    "            counter+=1\n",
    "    res_LOO=counter/(data.shape[0])\n",
    "    return res_LOO"
   ]
  },
  {
   "cell_type": "code",
   "execution_count": 8,
   "metadata": {},
   "outputs": [],
   "source": [
    "def choose_r(data, labels):\n",
    "    ary = sp.spatial.distance.cdist(data, data).flatten()\n",
    "    max_r=np.amax(ary)\n",
    "    loo_1=0\n",
    "    loo_2=8000\n",
    "    prev_r=max_r\n",
    "    while(loo_2>0.3):\n",
    "        current_r=prev_r/3\n",
    "        print(int(current_r))\n",
    "        loo_1=LOO_RN(data, labels, prev_r)\n",
    "        loo_2=LOO_RN(data, labels, current_r)\n",
    "        if loo_1<0.2:\n",
    "            break\n",
    "        prev_r=current_r\n",
    "        print(loo_2)\n",
    "    return prev_r"
   ]
  },
  {
   "cell_type": "markdown",
   "metadata": {},
   "source": [
    "# Spam"
   ]
  },
  {
   "cell_type": "code",
   "execution_count": 9,
   "metadata": {},
   "outputs": [],
   "source": [
    "data_open = pd.read_csv(\"spam.csv\")\n",
    "data = data_open.loc [1:10000] \n",
    "x = data[data.columns.difference(['label'])].values\n",
    "y = data.label.values\n",
    "y_1=pd.DataFrame(y)\n",
    "x_1=pd.DataFrame(x)"
   ]
  },
  {
   "cell_type": "code",
   "execution_count": 10,
   "metadata": {},
   "outputs": [
    {
     "name": "stdout",
     "output_type": "stream",
     "text": [
      "k= 1\n",
      "k= 2\n",
      "k= 3\n",
      "k= 4\n",
      "k= 5\n",
      "k= 6\n",
      "k= 7\n",
      "k= 8\n",
      "k= 9\n",
      "k= 10\n",
      "loo_values: [0.16934783 0.22347826 0.18565217 0.21347826 0.18565217 0.21673913\n",
      " 0.19586957 0.21673913 0.2026087  0.21978261]\n",
      "5280\n",
      "0.39369565217391306\n",
      "1760\n",
      "0.38065217391304346\n",
      "586\n",
      "0.34152173913043476\n",
      "195\n",
      "0.3184782608695652\n",
      "65\n",
      "0.2841304347826087\n"
     ]
    }
   ],
   "source": [
    "best_k=choosing_k(x, y )\n",
    "best_r=choose_r(x,y)\n",
    "x_copy=pd.DataFrame(x)\n",
    "result_labels=[]\n",
    "result_labels_rad=[]\n",
    "for i in range(x_copy.shape[0]):\n",
    "    data=x_1.drop(x_1.index[i]).values\n",
    "    data_labels=y_1.drop(y_1.index[i]).values\n",
    "    test=x_copy.iloc[[i]].values\n",
    "    result_labels.append(kNN(data, test, data_labels, best_k))\n",
    "    result_labels_rad.append(RadN(data, test, data_labels, best_r))"
   ]
  },
  {
   "cell_type": "markdown",
   "metadata": {},
   "source": [
    "# knn"
   ]
  },
  {
   "cell_type": "code",
   "execution_count": 11,
   "metadata": {},
   "outputs": [],
   "source": [
    "res=np.array(result_labels).flatten()\n",
    "acc=accuracy(res, y)"
   ]
  },
  {
   "cell_type": "code",
   "execution_count": 12,
   "metadata": {},
   "outputs": [
    {
     "name": "stdout",
     "output_type": "stream",
     "text": [
      "k=1, accuracy=0.8306521739130435\n"
     ]
    }
   ],
   "source": [
    "print(f'k={best_k}, accuracy={acc}')"
   ]
  },
  {
   "cell_type": "markdown",
   "metadata": {},
   "source": [
    "# RN"
   ]
  },
  {
   "cell_type": "code",
   "execution_count": 13,
   "metadata": {},
   "outputs": [],
   "source": [
    "res_1=np.array(result_labels_rad).flatten()\n",
    "acc_1=accuracy(res_1, y)"
   ]
  },
  {
   "cell_type": "code",
   "execution_count": 14,
   "metadata": {},
   "outputs": [
    {
     "data": {
      "text/plain": [
       "0.7158695652173913"
      ]
     },
     "execution_count": 14,
     "metadata": {},
     "output_type": "execute_result"
    }
   ],
   "source": [
    "acc_1"
   ]
  },
  {
   "cell_type": "code",
   "execution_count": 15,
   "metadata": {},
   "outputs": [
    {
     "name": "stdout",
     "output_type": "stream",
     "text": [
      "r=65.18525063208538, accuracy=0.7158695652173913\n"
     ]
    }
   ],
   "source": [
    "print(f'r={best_r}, accuracy={acc_1}')"
   ]
  },
  {
   "cell_type": "markdown",
   "metadata": {},
   "source": [
    "# Cancer"
   ]
  },
  {
   "cell_type": "code",
   "execution_count": 16,
   "metadata": {},
   "outputs": [],
   "source": [
    "data_open = pd.read_csv(\"cancer.csv\")\n",
    "data = data_open.loc [1:10000] \n",
    "x = data[data.columns.difference(['label'])].values\n",
    "y = data.label.values\n",
    "y_1=pd.DataFrame(y)\n",
    "x_1=pd.DataFrame(x)"
   ]
  },
  {
   "cell_type": "code",
   "execution_count": 17,
   "metadata": {},
   "outputs": [
    {
     "name": "stdout",
     "output_type": "stream",
     "text": [
      "k= 1\n",
      "k= 2\n",
      "k= 3\n",
      "k= 4\n",
      "k= 5\n",
      "k= 6\n",
      "k= 7\n",
      "k= 8\n",
      "k= 9\n",
      "k= 10\n",
      "loo_values: [0.08450704 0.08450704 0.07394366 0.0721831  0.06690141 0.06866197\n",
      " 0.06866197 0.06690141 0.06690141 0.06514085]\n",
      "1579\n",
      "0.3045774647887324\n",
      "526\n",
      "0.12852112676056338\n"
     ]
    }
   ],
   "source": [
    "best_k=choosing_k(x, y )\n",
    "best_r=choose_r(x,y)\n",
    "x_copy=pd.DataFrame(x)\n",
    "result_labels=[]\n",
    "result_labels_rad=[]\n",
    "for i in range(x_copy.shape[0]):\n",
    "    data=x_1.drop(x_1.index[i]).values\n",
    "    data_labels=y_1.drop(y_1.index[i]).values\n",
    "    test=x_copy.iloc[[i]].values\n",
    "    result_labels.append(kNN(data, test, data_labels, best_k))\n",
    "    result_labels_rad.append(RadN(data, test, data_labels, best_r))"
   ]
  },
  {
   "cell_type": "markdown",
   "metadata": {},
   "source": [
    "# knn"
   ]
  },
  {
   "cell_type": "code",
   "execution_count": 18,
   "metadata": {},
   "outputs": [],
   "source": [
    "res=np.array(result_labels).flatten()\n",
    "acc=accuracy(res, y)"
   ]
  },
  {
   "cell_type": "code",
   "execution_count": 19,
   "metadata": {},
   "outputs": [
    {
     "name": "stdout",
     "output_type": "stream",
     "text": [
      "k=10, accuracy=0.9348591549295775\n"
     ]
    }
   ],
   "source": [
    "print(f'k={best_k}, accuracy={acc}')"
   ]
  },
  {
   "cell_type": "markdown",
   "metadata": {},
   "source": [
    "# RN"
   ]
  },
  {
   "cell_type": "code",
   "execution_count": 20,
   "metadata": {},
   "outputs": [],
   "source": [
    "res_1=np.array(result_labels_rad).flatten()\n",
    "acc_1=accuracy(res_1, y)"
   ]
  },
  {
   "cell_type": "code",
   "execution_count": 21,
   "metadata": {},
   "outputs": [
    {
     "data": {
      "text/plain": [
       "0.8714788732394366"
      ]
     },
     "execution_count": 21,
     "metadata": {},
     "output_type": "execute_result"
    }
   ],
   "source": [
    "acc_1"
   ]
  },
  {
   "cell_type": "code",
   "execution_count": 22,
   "metadata": {},
   "outputs": [
    {
     "name": "stdout",
     "output_type": "stream",
     "text": [
      "r=526.5654228607513, accuracy=0.8714788732394366\n"
     ]
    }
   ],
   "source": [
    "print(f'r={best_r}, accuracy={acc_1}')"
   ]
  },
  {
   "cell_type": "markdown",
   "metadata": {},
   "source": [
    "# Normilized Spam"
   ]
  },
  {
   "cell_type": "code",
   "execution_count": 23,
   "metadata": {},
   "outputs": [],
   "source": [
    "scaler = MinMaxScaler()\n",
    "data_open = pd.read_csv(\"spam.csv\")\n",
    "data = data_open.loc [1:10000] \n",
    "x = data[data.columns.difference(['label'])].values\n",
    "x_scaled=scaler.fit_transform(x)\n",
    "y = data.label.values\n",
    "y_1=pd.DataFrame(y)\n",
    "x_1=pd.DataFrame(x_scaled)"
   ]
  },
  {
   "cell_type": "code",
   "execution_count": 24,
   "metadata": {},
   "outputs": [
    {
     "name": "stdout",
     "output_type": "stream",
     "text": [
      "k= 1\n",
      "k= 2\n",
      "k= 3\n",
      "k= 4\n",
      "k= 5\n",
      "k= 6\n",
      "k= 7\n",
      "k= 8\n",
      "k= 9\n",
      "k= 10\n",
      "loo_values: [0.0876087  0.11826087 0.095      0.115      0.09521739 0.1123913\n",
      " 0.09934783 0.11108696 0.10195652 0.11130435]\n",
      "0\n",
      "0.3932608695652174\n",
      "0\n",
      "0.22130434782608696\n"
     ]
    }
   ],
   "source": [
    "best_k=choosing_k(x_scaled, y )\n",
    "best_r=choose_r(x_scaled,y)\n",
    "x_copy=pd.DataFrame(x_scaled)\n",
    "result_labels=[]\n",
    "result_labels_rad=[]\n",
    "for i in range(x_copy.shape[0]):\n",
    "    data=x_1.drop(x_1.index[i]).values\n",
    "    data_labels=y_1.drop(y_1.index[i]).values\n",
    "    test=x_copy.iloc[[i]].values\n",
    "    result_labels.append(kNN(data, test, data_labels, 1))\n",
    "    result_labels_rad.append(RadN(data, test, data_labels, best_r))"
   ]
  },
  {
   "cell_type": "markdown",
   "metadata": {},
   "source": [
    "# kNN"
   ]
  },
  {
   "cell_type": "code",
   "execution_count": 25,
   "metadata": {},
   "outputs": [
    {
     "name": "stdout",
     "output_type": "stream",
     "text": [
      "k=1, accuracy=0.9123913043478261\n"
     ]
    }
   ],
   "source": [
    "res=np.array(result_labels).flatten()\n",
    "acc=accuracy(res, y)\n",
    "print(f'k={best_k}, accuracy={acc}')"
   ]
  },
  {
   "cell_type": "markdown",
   "metadata": {},
   "source": [
    "# RN"
   ]
  },
  {
   "cell_type": "code",
   "execution_count": 26,
   "metadata": {},
   "outputs": [],
   "source": [
    "res_1=np.array(result_labels_rad).flatten()\n",
    "acc_1=accuracy(res_1, y)"
   ]
  },
  {
   "cell_type": "code",
   "execution_count": 27,
   "metadata": {},
   "outputs": [
    {
     "name": "stdout",
     "output_type": "stream",
     "text": [
      "r=0.31052243563363074, accuracy=0.778695652173913\n"
     ]
    }
   ],
   "source": [
    "print(f'r={best_r}, accuracy={acc_1}')"
   ]
  },
  {
   "cell_type": "markdown",
   "metadata": {},
   "source": [
    "# Normilized Cancer"
   ]
  },
  {
   "cell_type": "code",
   "execution_count": 28,
   "metadata": {},
   "outputs": [],
   "source": [
    "scaler = MinMaxScaler()\n",
    "data_open = pd.read_csv(\"cancer.csv\")\n",
    "data = data_open.loc [1:10000] \n",
    "x = data[data.columns.difference(['label'])].values\n",
    "x_scaled=scaler.fit_transform(x)\n",
    "y = data.label.values\n",
    "y_1=pd.DataFrame(y)\n",
    "x_1=pd.DataFrame(x_scaled)"
   ]
  },
  {
   "cell_type": "code",
   "execution_count": 29,
   "metadata": {},
   "outputs": [
    {
     "name": "stdout",
     "output_type": "stream",
     "text": [
      "k= 1\n",
      "k= 2\n",
      "k= 3\n",
      "k= 4\n",
      "k= 5\n",
      "k= 6\n",
      "k= 7\n",
      "k= 8\n",
      "k= 9\n",
      "k= 10\n",
      "loo_values: [0.04753521 0.04225352 0.02992958 0.03521127 0.0334507  0.03169014\n",
      " 0.02992958 0.02992958 0.02992958 0.03169014]\n",
      "1\n",
      "0.18661971830985916\n"
     ]
    }
   ],
   "source": [
    "best_k=choosing_k(x_scaled, y )\n",
    "best_r=choose_r(x_scaled,y)\n",
    "x_copy=pd.DataFrame(x_scaled)\n",
    "result_labels=[]\n",
    "result_labels_rad=[]\n",
    "for i in range(x_copy.shape[0]):\n",
    "    data=x_1.drop(x_1.index[i]).values\n",
    "    data_labels=y_1.drop(y_1.index[i]).values\n",
    "    test=x_copy.iloc[[i]].values\n",
    "    result_labels.append(kNN(data, test, data_labels, 1))\n",
    "    result_labels_rad.append(RadN(data, test, data_labels, best_r))"
   ]
  },
  {
   "cell_type": "markdown",
   "metadata": {},
   "source": [
    "# kNN"
   ]
  },
  {
   "cell_type": "code",
   "execution_count": 30,
   "metadata": {},
   "outputs": [
    {
     "name": "stdout",
     "output_type": "stream",
     "text": [
      "k=3, accuracy=0.9524647887323944\n"
     ]
    }
   ],
   "source": [
    "res=np.array(result_labels).flatten()\n",
    "acc=accuracy(res, y)\n",
    "print(f'k={best_k}, accuracy={acc}')"
   ]
  },
  {
   "cell_type": "markdown",
   "metadata": {},
   "source": [
    "# RN"
   ]
  },
  {
   "cell_type": "code",
   "execution_count": 31,
   "metadata": {},
   "outputs": [
    {
     "name": "stdout",
     "output_type": "stream",
     "text": [
      "r=1.1547379262300324, accuracy=0.8133802816901409\n"
     ]
    }
   ],
   "source": [
    "res_1=np.array(result_labels_rad).flatten()\n",
    "acc_1=accuracy(res_1, y)\n",
    "print(f'r={best_r}, accuracy={acc_1}')"
   ]
  },
  {
   "cell_type": "code",
   "execution_count": null,
   "metadata": {},
   "outputs": [],
   "source": []
  }
 ],
 "metadata": {
  "kernelspec": {
   "display_name": "Python 3",
   "language": "python",
   "name": "python3"
  },
  "language_info": {
   "codemirror_mode": {
    "name": "ipython",
    "version": 3
   },
   "file_extension": ".py",
   "mimetype": "text/x-python",
   "name": "python",
   "nbconvert_exporter": "python",
   "pygments_lexer": "ipython3",
   "version": "3.7.4"
  }
 },
 "nbformat": 4,
 "nbformat_minor": 2
}
