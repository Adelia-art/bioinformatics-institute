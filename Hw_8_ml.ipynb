{
 "cells": [
  {
   "cell_type": "code",
   "execution_count": 1,
   "metadata": {},
   "outputs": [],
   "source": [
    "import random\n",
    "import numpy as np\n",
    "import pandas as pd\n",
    "import matplotlib.pyplot as plt\n",
    "from sklearn.metrics import accuracy_score\n",
    "from sklearn.model_selection import train_test_split\n",
    "from sklearn.metrics import accuracy_score\n",
    "from sklearn.naive_bayes import MultinomialNB\n",
    "from sklearn.metrics import classification_report\n",
    "import nltk\n",
    "from nltk import stem\n",
    "from nltk.corpus import stopwords\n",
    "stemmer = stem.SnowballStemmer('english')\n",
    "stopwords = set(stopwords.words('english'))\n",
    "import string\n",
    "np.seterr(divide = 'ignore') \n",
    "import plotly.graph_objects as go\n",
    "from plotly.offline import iplot, init_notebook_mode"
   ]
  },
  {
   "cell_type": "markdown",
   "metadata": {},
   "source": [
    "## Gaussian naive Bayes"
   ]
  },
  {
   "cell_type": "code",
   "execution_count": 2,
   "metadata": {},
   "outputs": [],
   "source": [
    "def pdf(class_idx, x, mean, var):\n",
    "    mean = mean[class_idx]\n",
    "    var = var[class_idx]\n",
    "    numerator = np.exp(- (x-mean)**2 / (2 * var))\n",
    "    denominator = np.sqrt(2 * np.pi * var)\n",
    "    return numerator / denominator"
   ]
  },
  {
   "cell_type": "code",
   "execution_count": 3,
   "metadata": {},
   "outputs": [],
   "source": [
    "def GaussNaiveBayes(X,y):\n",
    "    n_samples, n_features = X.shape\n",
    "    classes = np.unique(y)\n",
    "    n_classes = len(classes)\n",
    "    mean = np.zeros((n_classes, n_features), dtype=np.float64)\n",
    "    var = np.zeros((n_classes, n_features), dtype=np.float64)\n",
    "    priors =  np.zeros(n_classes, dtype=np.float64)\n",
    "    for idx, c in enumerate(classes):\n",
    "        X_c = X[y==c]\n",
    "        mean[idx, :] = X_c.mean(axis=0)\n",
    "        var[idx, :] = X_c.var(axis=0)\n",
    "        priors[idx] = X_c.shape[0] / float(n_samples)\n",
    "    return mean, var, priors, classes"
   ]
  },
  {
   "cell_type": "code",
   "execution_count": 4,
   "metadata": {},
   "outputs": [],
   "source": [
    "def predict(X, classes, mean, var, priors):\n",
    "    y_pred = [_predict(x, classes, mean, var, priors) for x in X]\n",
    "    return np.array(y_pred)\n",
    "def _predict(x, classes, mean, var, priors):\n",
    "    posteriors = []\n",
    "    for idx, c in enumerate(classes):\n",
    "        prior = np.log(priors[idx])\n",
    "        posterior = np.sum(np.log(pdf(idx, x, mean, var)))\n",
    "        posterior = prior + posterior\n",
    "        posteriors.append(posterior)          \n",
    "    return classes[np.argmax(posteriors)]"
   ]
  },
  {
   "cell_type": "code",
   "execution_count": 5,
   "metadata": {},
   "outputs": [
    {
     "name": "stdout",
     "output_type": "stream",
     "text": [
      "Gaussian naive Bayes classification accuracy 0.8208469055374593\n"
     ]
    }
   ],
   "source": [
    "data = pd.read_csv('spam.csv')\n",
    "X = data[data.columns.difference(['label'])].values\n",
    "y = data.label.values\n",
    "X_train, X_test, y_train, y_test = train_test_split(X, y, test_size=0.2, random_state=42)\n",
    "mean, var, priors, classes=GaussNaiveBayes(X_train, y_train)\n",
    "predictions = predict(X_test, classes, mean, var, priors)\n",
    "print(\"Gaussian naive Bayes classification accuracy\", accuracy_score(y_test, predictions))"
   ]
  },
  {
   "cell_type": "markdown",
   "metadata": {},
   "source": [
    "## Multinomial naive Bayes"
   ]
  },
  {
   "cell_type": "code",
   "execution_count": 6,
   "metadata": {},
   "outputs": [],
   "source": [
    "def probability(test_point,class_, count):     \n",
    "    log_prob = np.log(count[class_]['total_points']) - np.log(count['total_points'])\n",
    "    total_words = len(test_point)\n",
    "    for i in range(len(test_point)):\n",
    "        current_word_prob = test_point[i]*(np.log(count[class_][i]+1)-np.log(count[class_]['total']+total_words))\n",
    "        log_prob += current_word_prob      \n",
    "    return log_prob"
   ]
  },
  {
   "cell_type": "code",
   "execution_count": 7,
   "metadata": {},
   "outputs": [],
   "source": [
    "def MultinomialNaiveBayes(X, y):\n",
    "    count = {}     \n",
    "    classes = set(y)\n",
    "    for class_ in classes:\n",
    "        count[class_] = {}\n",
    "        for i in range(len(X[0])):\n",
    "            count[class_][i] = 0\n",
    "        count[class_]['total'] = 0\n",
    "        count[class_]['total_points'] = 0\n",
    "    count['total_points'] = len(X)\n",
    "    for i in range(len(X)):\n",
    "        for j in range(len(X[0])):\n",
    "            count[y[i]][j]+=X[i][j]\n",
    "            count[y[i]]['total']+=X[i][j]\n",
    "        count[y[i]]['total_points']+=1\n",
    "    return count, classes"
   ]
  },
  {
   "cell_type": "code",
   "execution_count": 8,
   "metadata": {},
   "outputs": [],
   "source": [
    "def predict_new(X, classes, count):\n",
    "    y_pred = [] \n",
    "    for i in range(len(X)):\n",
    "        y_pred.append(_predict_new(X[i], classes, count))      \n",
    "    return y_pred\n",
    "def _predict_new(test_point, classes, count): \n",
    "    best_class = None\n",
    "    best_prob = None\n",
    "    first_run = True      \n",
    "    for class_ in classes:\n",
    "        log_probability_current_class = probability(test_point,class_, count)\n",
    "        if (first_run) or (log_probability_current_class > best_prob) :\n",
    "            best_class = class_\n",
    "            best_prob = log_probability_current_class\n",
    "            first_run = False\n",
    "                \n",
    "    return best_class"
   ]
  },
  {
   "cell_type": "code",
   "execution_count": 9,
   "metadata": {},
   "outputs": [],
   "source": [
    "data = pd.read_csv('smsspam.csv')\n",
    "X = data[data.columns.difference(['label'])].values\n",
    "y = data.label.values\n",
    "X_train, X_test, y_train, y_test = train_test_split(X, y, test_size=0.2, random_state=42)"
   ]
  },
  {
   "cell_type": "code",
   "execution_count": 10,
   "metadata": {},
   "outputs": [],
   "source": [
    "X_train=list(X_train)\n",
    "vocab = {}\n",
    "for i in range(len(X_train)):\n",
    "    word_list = []\n",
    "    for word in X_train[i][0].split():\n",
    "        word_new  = word.strip(string.punctuation).lower()\n",
    "        if (len(word_new)>2)  and (word_new not in stopwords):  \n",
    "            if word_new in vocab:\n",
    "                vocab[word_new]+=1\n",
    "            else:\n",
    "                vocab[word_new]=1"
   ]
  },
  {
   "cell_type": "code",
   "execution_count": 11,
   "metadata": {},
   "outputs": [],
   "source": [
    "features = []\n",
    "for key in vocab:\n",
    "    features.append(key)"
   ]
  },
  {
   "cell_type": "code",
   "execution_count": 12,
   "metadata": {},
   "outputs": [],
   "source": [
    "X_train_dataset = np.zeros((len(X_train),len(features)))\n",
    "for i in range(len(X_train)):\n",
    "    word_list = [ word.strip(string.punctuation).lower() for word in X_train[i][0].split()]\n",
    "    for word in word_list:\n",
    "        if word in features:\n",
    "            X_train_dataset[i][features.index(word)] += 1"
   ]
  },
  {
   "cell_type": "code",
   "execution_count": 13,
   "metadata": {},
   "outputs": [],
   "source": [
    "X_test_dataset = np.zeros((len(X_test),len(features)))\n",
    "for i in range(len(X_test)):\n",
    "    word_list = [ word.strip(string.punctuation).lower() for word in X_test[i][0].split()]\n",
    "    for word in word_list:\n",
    "        if word in features:\n",
    "            X_test_dataset[i][features.index(word)] += 1"
   ]
  },
  {
   "cell_type": "code",
   "execution_count": 14,
   "metadata": {},
   "outputs": [
    {
     "name": "stdout",
     "output_type": "stream",
     "text": [
      "Multinomial naive Bayes classification accuracy: 0.9802690582959641\n"
     ]
    }
   ],
   "source": [
    "count, classes=MultinomialNaiveBayes(X_train_dataset,y_train)\n",
    "y_pred = predict_new(X_test_dataset, classes, count)\n",
    "print(\"Multinomial naive Bayes classification accuracy:\",accuracy_score(y_pred,y_test))"
   ]
  },
  {
   "cell_type": "markdown",
   "metadata": {},
   "source": [
    "## Global  Search with Monte Carlo"
   ]
  },
  {
   "cell_type": "code",
   "execution_count": 21,
   "metadata": {},
   "outputs": [
    {
     "name": "stdout",
     "output_type": "stream",
     "text": [
      "Route length: 33555.0\n"
     ]
    },
    {
     "data": {
      "application/vnd.plotly.v1+json": {
       "config": {
        "linkText": "Export to plot.ly",
        "plotlyServerURL": "https://plot.ly",
        "showLink": false
       },
       "data": [
        {
         "marker": {
          "color": "black",
          "size": 14
         },
         "mode": "markers",
         "type": "scatter",
         "x": [
          565,
          25,
          345,
          945,
          845,
          880,
          25,
          525,
          580,
          650,
          1605,
          1220,
          1465,
          1530,
          845,
          725,
          145,
          415,
          510,
          560,
          300,
          520,
          480,
          835,
          975,
          1215,
          1320,
          1250,
          660,
          410,
          420,
          575,
          1150,
          700,
          685,
          685,
          770,
          795,
          720,
          760,
          475,
          95,
          875,
          700,
          555,
          830,
          1170,
          830,
          605,
          595,
          1340,
          1740
         ],
         "y": [
          575,
          185,
          750,
          685,
          655,
          660,
          230,
          1000,
          1175,
          1130,
          620,
          580,
          200,
          5,
          680,
          370,
          665,
          635,
          875,
          365,
          465,
          585,
          415,
          625,
          580,
          245,
          315,
          400,
          180,
          250,
          555,
          665,
          1160,
          580,
          595,
          610,
          610,
          645,
          635,
          650,
          960,
          260,
          920,
          500,
          815,
          485,
          65,
          610,
          625,
          360,
          725,
          245
         ]
        },
        {
         "marker": {
          "color": "red",
          "size": 20
         },
         "mode": "markers",
         "type": "scatter",
         "x": [
          555,
          720
         ],
         "y": [
          815,
          635
         ]
        },
        {
         "marker": {
          "color": "black",
          "size": 14
         },
         "mode": "markers",
         "type": "scatter",
         "x": [
          565,
          25,
          345,
          945,
          845,
          880,
          25,
          525,
          580,
          650,
          1605,
          1220,
          1465,
          1530,
          845,
          725,
          145,
          415,
          510,
          560,
          300,
          520,
          480,
          835,
          975,
          1215,
          1320,
          1250,
          660,
          410,
          420,
          575,
          1150,
          700,
          685,
          685,
          770,
          795,
          720,
          760,
          475,
          95,
          875,
          700,
          555,
          830,
          1170,
          830,
          605,
          595,
          1340,
          1740
         ],
         "y": [
          575,
          185,
          750,
          685,
          655,
          660,
          230,
          1000,
          1175,
          1130,
          620,
          580,
          200,
          5,
          680,
          370,
          665,
          635,
          875,
          365,
          465,
          585,
          415,
          625,
          580,
          245,
          315,
          400,
          180,
          250,
          555,
          665,
          1160,
          580,
          595,
          610,
          610,
          645,
          635,
          650,
          960,
          260,
          920,
          500,
          815,
          485,
          65,
          610,
          625,
          360,
          725,
          245
         ]
        },
        {
         "line": {
          "color": "green"
         },
         "type": "scatter",
         "x": [
          555,
          525,
          525
         ],
         "y": [
          815,
          815,
          1000
         ]
        },
        {
         "line": {
          "color": "green"
         },
         "type": "scatter",
         "x": [
          525,
          575,
          575
         ],
         "y": [
          1000,
          1000,
          665
         ]
        },
        {
         "line": {
          "color": "green"
         },
         "type": "scatter",
         "x": [
          575,
          415,
          415
         ],
         "y": [
          665,
          665,
          635
         ]
        },
        {
         "line": {
          "color": "green"
         },
         "type": "scatter",
         "x": [
          415,
          565,
          565
         ],
         "y": [
          635,
          635,
          575
         ]
        },
        {
         "line": {
          "color": "green"
         },
         "type": "scatter",
         "x": [
          565,
          1150,
          1150
         ],
         "y": [
          575,
          575,
          1160
         ]
        },
        {
         "line": {
          "color": "green"
         },
         "type": "scatter",
         "x": [
          1150,
          945,
          945
         ],
         "y": [
          1160,
          1160,
          685
         ]
        },
        {
         "line": {
          "color": "green"
         },
         "type": "scatter",
         "x": [
          945,
          685,
          685
         ],
         "y": [
          685,
          685,
          610
         ]
        },
        {
         "line": {
          "color": "green"
         },
         "type": "scatter",
         "x": [
          685,
          700,
          700
         ],
         "y": [
          610,
          610,
          580
         ]
        },
        {
         "line": {
          "color": "green"
         },
         "type": "scatter",
         "x": [
          700,
          345,
          345
         ],
         "y": [
          580,
          580,
          750
         ]
        },
        {
         "line": {
          "color": "green"
         },
         "type": "scatter",
         "x": [
          345,
          770,
          770
         ],
         "y": [
          750,
          750,
          610
         ]
        },
        {
         "line": {
          "color": "green"
         },
         "type": "scatter",
         "x": [
          770,
          410,
          410
         ],
         "y": [
          610,
          610,
          250
         ]
        },
        {
         "line": {
          "color": "green"
         },
         "type": "scatter",
         "x": [
          410,
          830,
          830
         ],
         "y": [
          250,
          250,
          610
         ]
        },
        {
         "line": {
          "color": "green"
         },
         "type": "scatter",
         "x": [
          830,
          795,
          795
         ],
         "y": [
          610,
          610,
          645
         ]
        },
        {
         "line": {
          "color": "green"
         },
         "type": "scatter",
         "x": [
          795,
          875,
          875
         ],
         "y": [
          645,
          645,
          920
         ]
        },
        {
         "line": {
          "color": "green"
         },
         "type": "scatter",
         "x": [
          875,
          1215,
          1215
         ],
         "y": [
          920,
          920,
          245
         ]
        },
        {
         "line": {
          "color": "green"
         },
         "type": "scatter",
         "x": [
          1215,
          1220,
          1220
         ],
         "y": [
          245,
          245,
          580
         ]
        },
        {
         "line": {
          "color": "green"
         },
         "type": "scatter",
         "x": [
          1220,
          475,
          475
         ],
         "y": [
          580,
          580,
          960
         ]
        },
        {
         "line": {
          "color": "green"
         },
         "type": "scatter",
         "x": [
          475,
          300,
          300
         ],
         "y": [
          960,
          960,
          465
         ]
        },
        {
         "line": {
          "color": "green"
         },
         "type": "scatter",
         "x": [
          300,
          520,
          520
         ],
         "y": [
          465,
          465,
          585
         ]
        },
        {
         "line": {
          "color": "green"
         },
         "type": "scatter",
         "x": [
          520,
          835,
          835
         ],
         "y": [
          585,
          585,
          625
         ]
        },
        {
         "line": {
          "color": "green"
         },
         "type": "scatter",
         "x": [
          835,
          1320,
          1320
         ],
         "y": [
          625,
          625,
          315
         ]
        },
        {
         "line": {
          "color": "green"
         },
         "type": "scatter",
         "x": [
          1320,
          1605,
          1605
         ],
         "y": [
          315,
          315,
          620
         ]
        },
        {
         "line": {
          "color": "green"
         },
         "type": "scatter",
         "x": [
          1605,
          760,
          760
         ],
         "y": [
          620,
          620,
          650
         ]
        },
        {
         "line": {
          "color": "green"
         },
         "type": "scatter",
         "x": [
          760,
          700,
          700
         ],
         "y": [
          650,
          650,
          500
         ]
        },
        {
         "line": {
          "color": "green"
         },
         "type": "scatter",
         "x": [
          700,
          650,
          650
         ],
         "y": [
          500,
          500,
          1130
         ]
        },
        {
         "line": {
          "color": "green"
         },
         "type": "scatter",
         "x": [
          650,
          1340,
          1340
         ],
         "y": [
          1130,
          1130,
          725
         ]
        },
        {
         "line": {
          "color": "green"
         },
         "type": "scatter",
         "x": [
          1340,
          420,
          420
         ],
         "y": [
          725,
          725,
          555
         ]
        },
        {
         "line": {
          "color": "green"
         },
         "type": "scatter",
         "x": [
          420,
          605,
          605
         ],
         "y": [
          555,
          555,
          625
         ]
        },
        {
         "line": {
          "color": "green"
         },
         "type": "scatter",
         "x": [
          605,
          145,
          145
         ],
         "y": [
          625,
          625,
          665
         ]
        },
        {
         "line": {
          "color": "green"
         },
         "type": "scatter",
         "x": [
          145,
          480,
          480
         ],
         "y": [
          665,
          665,
          415
         ]
        },
        {
         "line": {
          "color": "green"
         },
         "type": "scatter",
         "x": [
          480,
          1170,
          1170
         ],
         "y": [
          415,
          415,
          65
         ]
        },
        {
         "line": {
          "color": "green"
         },
         "type": "scatter",
         "x": [
          1170,
          845,
          845
         ],
         "y": [
          65,
          65,
          680
         ]
        },
        {
         "line": {
          "color": "green"
         },
         "type": "scatter",
         "x": [
          845,
          1465,
          1465
         ],
         "y": [
          680,
          680,
          200
         ]
        },
        {
         "line": {
          "color": "green"
         },
         "type": "scatter",
         "x": [
          1465,
          660,
          660
         ],
         "y": [
          200,
          200,
          180
         ]
        },
        {
         "line": {
          "color": "green"
         },
         "type": "scatter",
         "x": [
          660,
          845,
          845
         ],
         "y": [
          180,
          180,
          655
         ]
        },
        {
         "line": {
          "color": "green"
         },
         "type": "scatter",
         "x": [
          845,
          25,
          25
         ],
         "y": [
          655,
          655,
          185
         ]
        },
        {
         "line": {
          "color": "green"
         },
         "type": "scatter",
         "x": [
          25,
          25,
          25
         ],
         "y": [
          185,
          185,
          230
         ]
        },
        {
         "line": {
          "color": "green"
         },
         "type": "scatter",
         "x": [
          25,
          830,
          830
         ],
         "y": [
          230,
          230,
          485
         ]
        },
        {
         "line": {
          "color": "green"
         },
         "type": "scatter",
         "x": [
          830,
          580,
          580
         ],
         "y": [
          485,
          485,
          1175
         ]
        },
        {
         "line": {
          "color": "green"
         },
         "type": "scatter",
         "x": [
          580,
          595,
          595
         ],
         "y": [
          1175,
          1175,
          360
         ]
        },
        {
         "line": {
          "color": "green"
         },
         "type": "scatter",
         "x": [
          595,
          880,
          880
         ],
         "y": [
          360,
          360,
          660
         ]
        },
        {
         "line": {
          "color": "green"
         },
         "type": "scatter",
         "x": [
          880,
          725,
          725
         ],
         "y": [
          660,
          660,
          370
         ]
        },
        {
         "line": {
          "color": "green"
         },
         "type": "scatter",
         "x": [
          725,
          510,
          510
         ],
         "y": [
          370,
          370,
          875
         ]
        },
        {
         "line": {
          "color": "green"
         },
         "type": "scatter",
         "x": [
          510,
          685,
          685
         ],
         "y": [
          875,
          875,
          595
         ]
        },
        {
         "line": {
          "color": "green"
         },
         "type": "scatter",
         "x": [
          685,
          560,
          560
         ],
         "y": [
          595,
          595,
          365
         ]
        },
        {
         "line": {
          "color": "green"
         },
         "type": "scatter",
         "x": [
          560,
          1530,
          1530
         ],
         "y": [
          365,
          365,
          5
         ]
        },
        {
         "line": {
          "color": "green"
         },
         "type": "scatter",
         "x": [
          1530,
          1740,
          1740
         ],
         "y": [
          5,
          5,
          245
         ]
        },
        {
         "line": {
          "color": "green"
         },
         "type": "scatter",
         "x": [
          1740,
          95,
          95
         ],
         "y": [
          245,
          245,
          260
         ]
        },
        {
         "line": {
          "color": "green"
         },
         "type": "scatter",
         "x": [
          95,
          1250,
          1250
         ],
         "y": [
          260,
          260,
          400
         ]
        },
        {
         "line": {
          "color": "green"
         },
         "type": "scatter",
         "x": [
          1250,
          975,
          975
         ],
         "y": [
          400,
          400,
          580
         ]
        },
        {
         "line": {
          "color": "green"
         },
         "type": "scatter",
         "x": [
          975,
          720,
          720
         ],
         "y": [
          580,
          580,
          635
         ]
        }
       ],
       "layout": {
        "height": 500,
        "showlegend": false,
        "template": {
         "data": {
          "bar": [
           {
            "error_x": {
             "color": "#2a3f5f"
            },
            "error_y": {
             "color": "#2a3f5f"
            },
            "marker": {
             "line": {
              "color": "#E5ECF6",
              "width": 0.5
             }
            },
            "type": "bar"
           }
          ],
          "barpolar": [
           {
            "marker": {
             "line": {
              "color": "#E5ECF6",
              "width": 0.5
             }
            },
            "type": "barpolar"
           }
          ],
          "carpet": [
           {
            "aaxis": {
             "endlinecolor": "#2a3f5f",
             "gridcolor": "white",
             "linecolor": "white",
             "minorgridcolor": "white",
             "startlinecolor": "#2a3f5f"
            },
            "baxis": {
             "endlinecolor": "#2a3f5f",
             "gridcolor": "white",
             "linecolor": "white",
             "minorgridcolor": "white",
             "startlinecolor": "#2a3f5f"
            },
            "type": "carpet"
           }
          ],
          "choropleth": [
           {
            "colorbar": {
             "outlinewidth": 0,
             "ticks": ""
            },
            "type": "choropleth"
           }
          ],
          "contour": [
           {
            "colorbar": {
             "outlinewidth": 0,
             "ticks": ""
            },
            "colorscale": [
             [
              0,
              "#0d0887"
             ],
             [
              0.1111111111111111,
              "#46039f"
             ],
             [
              0.2222222222222222,
              "#7201a8"
             ],
             [
              0.3333333333333333,
              "#9c179e"
             ],
             [
              0.4444444444444444,
              "#bd3786"
             ],
             [
              0.5555555555555556,
              "#d8576b"
             ],
             [
              0.6666666666666666,
              "#ed7953"
             ],
             [
              0.7777777777777778,
              "#fb9f3a"
             ],
             [
              0.8888888888888888,
              "#fdca26"
             ],
             [
              1,
              "#f0f921"
             ]
            ],
            "type": "contour"
           }
          ],
          "contourcarpet": [
           {
            "colorbar": {
             "outlinewidth": 0,
             "ticks": ""
            },
            "type": "contourcarpet"
           }
          ],
          "heatmap": [
           {
            "colorbar": {
             "outlinewidth": 0,
             "ticks": ""
            },
            "colorscale": [
             [
              0,
              "#0d0887"
             ],
             [
              0.1111111111111111,
              "#46039f"
             ],
             [
              0.2222222222222222,
              "#7201a8"
             ],
             [
              0.3333333333333333,
              "#9c179e"
             ],
             [
              0.4444444444444444,
              "#bd3786"
             ],
             [
              0.5555555555555556,
              "#d8576b"
             ],
             [
              0.6666666666666666,
              "#ed7953"
             ],
             [
              0.7777777777777778,
              "#fb9f3a"
             ],
             [
              0.8888888888888888,
              "#fdca26"
             ],
             [
              1,
              "#f0f921"
             ]
            ],
            "type": "heatmap"
           }
          ],
          "heatmapgl": [
           {
            "colorbar": {
             "outlinewidth": 0,
             "ticks": ""
            },
            "colorscale": [
             [
              0,
              "#0d0887"
             ],
             [
              0.1111111111111111,
              "#46039f"
             ],
             [
              0.2222222222222222,
              "#7201a8"
             ],
             [
              0.3333333333333333,
              "#9c179e"
             ],
             [
              0.4444444444444444,
              "#bd3786"
             ],
             [
              0.5555555555555556,
              "#d8576b"
             ],
             [
              0.6666666666666666,
              "#ed7953"
             ],
             [
              0.7777777777777778,
              "#fb9f3a"
             ],
             [
              0.8888888888888888,
              "#fdca26"
             ],
             [
              1,
              "#f0f921"
             ]
            ],
            "type": "heatmapgl"
           }
          ],
          "histogram": [
           {
            "marker": {
             "colorbar": {
              "outlinewidth": 0,
              "ticks": ""
             }
            },
            "type": "histogram"
           }
          ],
          "histogram2d": [
           {
            "colorbar": {
             "outlinewidth": 0,
             "ticks": ""
            },
            "colorscale": [
             [
              0,
              "#0d0887"
             ],
             [
              0.1111111111111111,
              "#46039f"
             ],
             [
              0.2222222222222222,
              "#7201a8"
             ],
             [
              0.3333333333333333,
              "#9c179e"
             ],
             [
              0.4444444444444444,
              "#bd3786"
             ],
             [
              0.5555555555555556,
              "#d8576b"
             ],
             [
              0.6666666666666666,
              "#ed7953"
             ],
             [
              0.7777777777777778,
              "#fb9f3a"
             ],
             [
              0.8888888888888888,
              "#fdca26"
             ],
             [
              1,
              "#f0f921"
             ]
            ],
            "type": "histogram2d"
           }
          ],
          "histogram2dcontour": [
           {
            "colorbar": {
             "outlinewidth": 0,
             "ticks": ""
            },
            "colorscale": [
             [
              0,
              "#0d0887"
             ],
             [
              0.1111111111111111,
              "#46039f"
             ],
             [
              0.2222222222222222,
              "#7201a8"
             ],
             [
              0.3333333333333333,
              "#9c179e"
             ],
             [
              0.4444444444444444,
              "#bd3786"
             ],
             [
              0.5555555555555556,
              "#d8576b"
             ],
             [
              0.6666666666666666,
              "#ed7953"
             ],
             [
              0.7777777777777778,
              "#fb9f3a"
             ],
             [
              0.8888888888888888,
              "#fdca26"
             ],
             [
              1,
              "#f0f921"
             ]
            ],
            "type": "histogram2dcontour"
           }
          ],
          "mesh3d": [
           {
            "colorbar": {
             "outlinewidth": 0,
             "ticks": ""
            },
            "type": "mesh3d"
           }
          ],
          "parcoords": [
           {
            "line": {
             "colorbar": {
              "outlinewidth": 0,
              "ticks": ""
             }
            },
            "type": "parcoords"
           }
          ],
          "pie": [
           {
            "automargin": true,
            "type": "pie"
           }
          ],
          "scatter": [
           {
            "marker": {
             "colorbar": {
              "outlinewidth": 0,
              "ticks": ""
             }
            },
            "type": "scatter"
           }
          ],
          "scatter3d": [
           {
            "line": {
             "colorbar": {
              "outlinewidth": 0,
              "ticks": ""
             }
            },
            "marker": {
             "colorbar": {
              "outlinewidth": 0,
              "ticks": ""
             }
            },
            "type": "scatter3d"
           }
          ],
          "scattercarpet": [
           {
            "marker": {
             "colorbar": {
              "outlinewidth": 0,
              "ticks": ""
             }
            },
            "type": "scattercarpet"
           }
          ],
          "scattergeo": [
           {
            "marker": {
             "colorbar": {
              "outlinewidth": 0,
              "ticks": ""
             }
            },
            "type": "scattergeo"
           }
          ],
          "scattergl": [
           {
            "marker": {
             "colorbar": {
              "outlinewidth": 0,
              "ticks": ""
             }
            },
            "type": "scattergl"
           }
          ],
          "scattermapbox": [
           {
            "marker": {
             "colorbar": {
              "outlinewidth": 0,
              "ticks": ""
             }
            },
            "type": "scattermapbox"
           }
          ],
          "scatterpolar": [
           {
            "marker": {
             "colorbar": {
              "outlinewidth": 0,
              "ticks": ""
             }
            },
            "type": "scatterpolar"
           }
          ],
          "scatterpolargl": [
           {
            "marker": {
             "colorbar": {
              "outlinewidth": 0,
              "ticks": ""
             }
            },
            "type": "scatterpolargl"
           }
          ],
          "scatterternary": [
           {
            "marker": {
             "colorbar": {
              "outlinewidth": 0,
              "ticks": ""
             }
            },
            "type": "scatterternary"
           }
          ],
          "surface": [
           {
            "colorbar": {
             "outlinewidth": 0,
             "ticks": ""
            },
            "colorscale": [
             [
              0,
              "#0d0887"
             ],
             [
              0.1111111111111111,
              "#46039f"
             ],
             [
              0.2222222222222222,
              "#7201a8"
             ],
             [
              0.3333333333333333,
              "#9c179e"
             ],
             [
              0.4444444444444444,
              "#bd3786"
             ],
             [
              0.5555555555555556,
              "#d8576b"
             ],
             [
              0.6666666666666666,
              "#ed7953"
             ],
             [
              0.7777777777777778,
              "#fb9f3a"
             ],
             [
              0.8888888888888888,
              "#fdca26"
             ],
             [
              1,
              "#f0f921"
             ]
            ],
            "type": "surface"
           }
          ],
          "table": [
           {
            "cells": {
             "fill": {
              "color": "#EBF0F8"
             },
             "line": {
              "color": "white"
             }
            },
            "header": {
             "fill": {
              "color": "#C8D4E3"
             },
             "line": {
              "color": "white"
             }
            },
            "type": "table"
           }
          ]
         },
         "layout": {
          "annotationdefaults": {
           "arrowcolor": "#2a3f5f",
           "arrowhead": 0,
           "arrowwidth": 1
          },
          "coloraxis": {
           "colorbar": {
            "outlinewidth": 0,
            "ticks": ""
           }
          },
          "colorscale": {
           "diverging": [
            [
             0,
             "#8e0152"
            ],
            [
             0.1,
             "#c51b7d"
            ],
            [
             0.2,
             "#de77ae"
            ],
            [
             0.3,
             "#f1b6da"
            ],
            [
             0.4,
             "#fde0ef"
            ],
            [
             0.5,
             "#f7f7f7"
            ],
            [
             0.6,
             "#e6f5d0"
            ],
            [
             0.7,
             "#b8e186"
            ],
            [
             0.8,
             "#7fbc41"
            ],
            [
             0.9,
             "#4d9221"
            ],
            [
             1,
             "#276419"
            ]
           ],
           "sequential": [
            [
             0,
             "#0d0887"
            ],
            [
             0.1111111111111111,
             "#46039f"
            ],
            [
             0.2222222222222222,
             "#7201a8"
            ],
            [
             0.3333333333333333,
             "#9c179e"
            ],
            [
             0.4444444444444444,
             "#bd3786"
            ],
            [
             0.5555555555555556,
             "#d8576b"
            ],
            [
             0.6666666666666666,
             "#ed7953"
            ],
            [
             0.7777777777777778,
             "#fb9f3a"
            ],
            [
             0.8888888888888888,
             "#fdca26"
            ],
            [
             1,
             "#f0f921"
            ]
           ],
           "sequentialminus": [
            [
             0,
             "#0d0887"
            ],
            [
             0.1111111111111111,
             "#46039f"
            ],
            [
             0.2222222222222222,
             "#7201a8"
            ],
            [
             0.3333333333333333,
             "#9c179e"
            ],
            [
             0.4444444444444444,
             "#bd3786"
            ],
            [
             0.5555555555555556,
             "#d8576b"
            ],
            [
             0.6666666666666666,
             "#ed7953"
            ],
            [
             0.7777777777777778,
             "#fb9f3a"
            ],
            [
             0.8888888888888888,
             "#fdca26"
            ],
            [
             1,
             "#f0f921"
            ]
           ]
          },
          "colorway": [
           "#636efa",
           "#EF553B",
           "#00cc96",
           "#ab63fa",
           "#FFA15A",
           "#19d3f3",
           "#FF6692",
           "#B6E880",
           "#FF97FF",
           "#FECB52"
          ],
          "font": {
           "color": "#2a3f5f"
          },
          "geo": {
           "bgcolor": "white",
           "lakecolor": "white",
           "landcolor": "#E5ECF6",
           "showlakes": true,
           "showland": true,
           "subunitcolor": "white"
          },
          "hoverlabel": {
           "align": "left"
          },
          "hovermode": "closest",
          "mapbox": {
           "style": "light"
          },
          "paper_bgcolor": "white",
          "plot_bgcolor": "#E5ECF6",
          "polar": {
           "angularaxis": {
            "gridcolor": "white",
            "linecolor": "white",
            "ticks": ""
           },
           "bgcolor": "#E5ECF6",
           "radialaxis": {
            "gridcolor": "white",
            "linecolor": "white",
            "ticks": ""
           }
          },
          "scene": {
           "xaxis": {
            "backgroundcolor": "#E5ECF6",
            "gridcolor": "white",
            "gridwidth": 2,
            "linecolor": "white",
            "showbackground": true,
            "ticks": "",
            "zerolinecolor": "white"
           },
           "yaxis": {
            "backgroundcolor": "#E5ECF6",
            "gridcolor": "white",
            "gridwidth": 2,
            "linecolor": "white",
            "showbackground": true,
            "ticks": "",
            "zerolinecolor": "white"
           },
           "zaxis": {
            "backgroundcolor": "#E5ECF6",
            "gridcolor": "white",
            "gridwidth": 2,
            "linecolor": "white",
            "showbackground": true,
            "ticks": "",
            "zerolinecolor": "white"
           }
          },
          "shapedefaults": {
           "line": {
            "color": "#2a3f5f"
           }
          },
          "ternary": {
           "aaxis": {
            "gridcolor": "white",
            "linecolor": "white",
            "ticks": ""
           },
           "baxis": {
            "gridcolor": "white",
            "linecolor": "white",
            "ticks": ""
           },
           "bgcolor": "#E5ECF6",
           "caxis": {
            "gridcolor": "white",
            "linecolor": "white",
            "ticks": ""
           }
          },
          "title": {
           "x": 0.05
          },
          "xaxis": {
           "automargin": true,
           "gridcolor": "white",
           "linecolor": "white",
           "ticks": "",
           "title": {
            "standoff": 15
           },
           "zerolinecolor": "white",
           "zerolinewidth": 2
          },
          "yaxis": {
           "automargin": true,
           "gridcolor": "white",
           "linecolor": "white",
           "ticks": "",
           "title": {
            "standoff": 15
           },
           "zerolinecolor": "white",
           "zerolinewidth": 2
          }
         }
        },
        "width": 500,
        "xaxis": {
         "title": {
          "text": "x"
         }
        },
        "yaxis": {
         "title": {
          "text": "y"
         }
        }
       }
      },
      "text/html": [
       "<div>\n",
       "        \n",
       "        \n",
       "            <div id=\"b11e5a1b-d36b-4840-beb0-a8048f9060d0\" class=\"plotly-graph-div\" style=\"height:500px; width:500px;\"></div>\n",
       "            <script type=\"text/javascript\">\n",
       "                require([\"plotly\"], function(Plotly) {\n",
       "                    window.PLOTLYENV=window.PLOTLYENV || {};\n",
       "                    \n",
       "                if (document.getElementById(\"b11e5a1b-d36b-4840-beb0-a8048f9060d0\")) {\n",
       "                    Plotly.newPlot(\n",
       "                        'b11e5a1b-d36b-4840-beb0-a8048f9060d0',\n",
       "                        [{\"marker\": {\"color\": \"black\", \"size\": 14}, \"mode\": \"markers\", \"type\": \"scatter\", \"x\": [565, 25, 345, 945, 845, 880, 25, 525, 580, 650, 1605, 1220, 1465, 1530, 845, 725, 145, 415, 510, 560, 300, 520, 480, 835, 975, 1215, 1320, 1250, 660, 410, 420, 575, 1150, 700, 685, 685, 770, 795, 720, 760, 475, 95, 875, 700, 555, 830, 1170, 830, 605, 595, 1340, 1740], \"y\": [575, 185, 750, 685, 655, 660, 230, 1000, 1175, 1130, 620, 580, 200, 5, 680, 370, 665, 635, 875, 365, 465, 585, 415, 625, 580, 245, 315, 400, 180, 250, 555, 665, 1160, 580, 595, 610, 610, 645, 635, 650, 960, 260, 920, 500, 815, 485, 65, 610, 625, 360, 725, 245]}, {\"marker\": {\"color\": \"red\", \"size\": 20}, \"mode\": \"markers\", \"type\": \"scatter\", \"x\": [555, 720], \"y\": [815, 635]}, {\"marker\": {\"color\": \"black\", \"size\": 14}, \"mode\": \"markers\", \"type\": \"scatter\", \"x\": [565, 25, 345, 945, 845, 880, 25, 525, 580, 650, 1605, 1220, 1465, 1530, 845, 725, 145, 415, 510, 560, 300, 520, 480, 835, 975, 1215, 1320, 1250, 660, 410, 420, 575, 1150, 700, 685, 685, 770, 795, 720, 760, 475, 95, 875, 700, 555, 830, 1170, 830, 605, 595, 1340, 1740], \"y\": [575, 185, 750, 685, 655, 660, 230, 1000, 1175, 1130, 620, 580, 200, 5, 680, 370, 665, 635, 875, 365, 465, 585, 415, 625, 580, 245, 315, 400, 180, 250, 555, 665, 1160, 580, 595, 610, 610, 645, 635, 650, 960, 260, 920, 500, 815, 485, 65, 610, 625, 360, 725, 245]}, {\"line\": {\"color\": \"green\"}, \"type\": \"scatter\", \"x\": [555, 525, 525], \"y\": [815, 815, 1000]}, {\"line\": {\"color\": \"green\"}, \"type\": \"scatter\", \"x\": [525, 575, 575], \"y\": [1000, 1000, 665]}, {\"line\": {\"color\": \"green\"}, \"type\": \"scatter\", \"x\": [575, 415, 415], \"y\": [665, 665, 635]}, {\"line\": {\"color\": \"green\"}, \"type\": \"scatter\", \"x\": [415, 565, 565], \"y\": [635, 635, 575]}, {\"line\": {\"color\": \"green\"}, \"type\": \"scatter\", \"x\": [565, 1150, 1150], \"y\": [575, 575, 1160]}, {\"line\": {\"color\": \"green\"}, \"type\": \"scatter\", \"x\": [1150, 945, 945], \"y\": [1160, 1160, 685]}, {\"line\": {\"color\": \"green\"}, \"type\": \"scatter\", \"x\": [945, 685, 685], \"y\": [685, 685, 610]}, {\"line\": {\"color\": \"green\"}, \"type\": \"scatter\", \"x\": [685, 700, 700], \"y\": [610, 610, 580]}, {\"line\": {\"color\": \"green\"}, \"type\": \"scatter\", \"x\": [700, 345, 345], \"y\": [580, 580, 750]}, {\"line\": {\"color\": \"green\"}, \"type\": \"scatter\", \"x\": [345, 770, 770], \"y\": [750, 750, 610]}, {\"line\": {\"color\": \"green\"}, \"type\": \"scatter\", \"x\": [770, 410, 410], \"y\": [610, 610, 250]}, {\"line\": {\"color\": \"green\"}, \"type\": \"scatter\", \"x\": [410, 830, 830], \"y\": [250, 250, 610]}, {\"line\": {\"color\": \"green\"}, \"type\": \"scatter\", \"x\": [830, 795, 795], \"y\": [610, 610, 645]}, {\"line\": {\"color\": \"green\"}, \"type\": \"scatter\", \"x\": [795, 875, 875], \"y\": [645, 645, 920]}, {\"line\": {\"color\": \"green\"}, \"type\": \"scatter\", \"x\": [875, 1215, 1215], \"y\": [920, 920, 245]}, {\"line\": {\"color\": \"green\"}, \"type\": \"scatter\", \"x\": [1215, 1220, 1220], \"y\": [245, 245, 580]}, {\"line\": {\"color\": \"green\"}, \"type\": \"scatter\", \"x\": [1220, 475, 475], \"y\": [580, 580, 960]}, {\"line\": {\"color\": \"green\"}, \"type\": \"scatter\", \"x\": [475, 300, 300], \"y\": [960, 960, 465]}, {\"line\": {\"color\": \"green\"}, \"type\": \"scatter\", \"x\": [300, 520, 520], \"y\": [465, 465, 585]}, {\"line\": {\"color\": \"green\"}, \"type\": \"scatter\", \"x\": [520, 835, 835], \"y\": [585, 585, 625]}, {\"line\": {\"color\": \"green\"}, \"type\": \"scatter\", \"x\": [835, 1320, 1320], \"y\": [625, 625, 315]}, {\"line\": {\"color\": \"green\"}, \"type\": \"scatter\", \"x\": [1320, 1605, 1605], \"y\": [315, 315, 620]}, {\"line\": {\"color\": \"green\"}, \"type\": \"scatter\", \"x\": [1605, 760, 760], \"y\": [620, 620, 650]}, {\"line\": {\"color\": \"green\"}, \"type\": \"scatter\", \"x\": [760, 700, 700], \"y\": [650, 650, 500]}, {\"line\": {\"color\": \"green\"}, \"type\": \"scatter\", \"x\": [700, 650, 650], \"y\": [500, 500, 1130]}, {\"line\": {\"color\": \"green\"}, \"type\": \"scatter\", \"x\": [650, 1340, 1340], \"y\": [1130, 1130, 725]}, {\"line\": {\"color\": \"green\"}, \"type\": \"scatter\", \"x\": [1340, 420, 420], \"y\": [725, 725, 555]}, {\"line\": {\"color\": \"green\"}, \"type\": \"scatter\", \"x\": [420, 605, 605], \"y\": [555, 555, 625]}, {\"line\": {\"color\": \"green\"}, \"type\": \"scatter\", \"x\": [605, 145, 145], \"y\": [625, 625, 665]}, {\"line\": {\"color\": \"green\"}, \"type\": \"scatter\", \"x\": [145, 480, 480], \"y\": [665, 665, 415]}, {\"line\": {\"color\": \"green\"}, \"type\": \"scatter\", \"x\": [480, 1170, 1170], \"y\": [415, 415, 65]}, {\"line\": {\"color\": \"green\"}, \"type\": \"scatter\", \"x\": [1170, 845, 845], \"y\": [65, 65, 680]}, {\"line\": {\"color\": \"green\"}, \"type\": \"scatter\", \"x\": [845, 1465, 1465], \"y\": [680, 680, 200]}, {\"line\": {\"color\": \"green\"}, \"type\": \"scatter\", \"x\": [1465, 660, 660], \"y\": [200, 200, 180]}, {\"line\": {\"color\": \"green\"}, \"type\": \"scatter\", \"x\": [660, 845, 845], \"y\": [180, 180, 655]}, {\"line\": {\"color\": \"green\"}, \"type\": \"scatter\", \"x\": [845, 25, 25], \"y\": [655, 655, 185]}, {\"line\": {\"color\": \"green\"}, \"type\": \"scatter\", \"x\": [25, 25, 25], \"y\": [185, 185, 230]}, {\"line\": {\"color\": \"green\"}, \"type\": \"scatter\", \"x\": [25, 830, 830], \"y\": [230, 230, 485]}, {\"line\": {\"color\": \"green\"}, \"type\": \"scatter\", \"x\": [830, 580, 580], \"y\": [485, 485, 1175]}, {\"line\": {\"color\": \"green\"}, \"type\": \"scatter\", \"x\": [580, 595, 595], \"y\": [1175, 1175, 360]}, {\"line\": {\"color\": \"green\"}, \"type\": \"scatter\", \"x\": [595, 880, 880], \"y\": [360, 360, 660]}, {\"line\": {\"color\": \"green\"}, \"type\": \"scatter\", \"x\": [880, 725, 725], \"y\": [660, 660, 370]}, {\"line\": {\"color\": \"green\"}, \"type\": \"scatter\", \"x\": [725, 510, 510], \"y\": [370, 370, 875]}, {\"line\": {\"color\": \"green\"}, \"type\": \"scatter\", \"x\": [510, 685, 685], \"y\": [875, 875, 595]}, {\"line\": {\"color\": \"green\"}, \"type\": \"scatter\", \"x\": [685, 560, 560], \"y\": [595, 595, 365]}, {\"line\": {\"color\": \"green\"}, \"type\": \"scatter\", \"x\": [560, 1530, 1530], \"y\": [365, 365, 5]}, {\"line\": {\"color\": \"green\"}, \"type\": \"scatter\", \"x\": [1530, 1740, 1740], \"y\": [5, 5, 245]}, {\"line\": {\"color\": \"green\"}, \"type\": \"scatter\", \"x\": [1740, 95, 95], \"y\": [245, 245, 260]}, {\"line\": {\"color\": \"green\"}, \"type\": \"scatter\", \"x\": [95, 1250, 1250], \"y\": [260, 260, 400]}, {\"line\": {\"color\": \"green\"}, \"type\": \"scatter\", \"x\": [1250, 975, 975], \"y\": [400, 400, 580]}, {\"line\": {\"color\": \"green\"}, \"type\": \"scatter\", \"x\": [975, 720, 720], \"y\": [580, 580, 635]}],\n",
       "                        {\"height\": 500, \"showlegend\": false, \"template\": {\"data\": {\"bar\": [{\"error_x\": {\"color\": \"#2a3f5f\"}, \"error_y\": {\"color\": \"#2a3f5f\"}, \"marker\": {\"line\": {\"color\": \"#E5ECF6\", \"width\": 0.5}}, \"type\": \"bar\"}], \"barpolar\": [{\"marker\": {\"line\": {\"color\": \"#E5ECF6\", \"width\": 0.5}}, \"type\": \"barpolar\"}], \"carpet\": [{\"aaxis\": {\"endlinecolor\": \"#2a3f5f\", \"gridcolor\": \"white\", \"linecolor\": \"white\", \"minorgridcolor\": \"white\", \"startlinecolor\": \"#2a3f5f\"}, \"baxis\": {\"endlinecolor\": \"#2a3f5f\", \"gridcolor\": \"white\", \"linecolor\": \"white\", \"minorgridcolor\": \"white\", \"startlinecolor\": \"#2a3f5f\"}, \"type\": \"carpet\"}], \"choropleth\": [{\"colorbar\": {\"outlinewidth\": 0, \"ticks\": \"\"}, \"type\": \"choropleth\"}], \"contour\": [{\"colorbar\": {\"outlinewidth\": 0, \"ticks\": \"\"}, \"colorscale\": [[0.0, \"#0d0887\"], [0.1111111111111111, \"#46039f\"], [0.2222222222222222, \"#7201a8\"], [0.3333333333333333, \"#9c179e\"], [0.4444444444444444, \"#bd3786\"], [0.5555555555555556, \"#d8576b\"], [0.6666666666666666, \"#ed7953\"], [0.7777777777777778, \"#fb9f3a\"], [0.8888888888888888, \"#fdca26\"], [1.0, \"#f0f921\"]], \"type\": \"contour\"}], \"contourcarpet\": [{\"colorbar\": {\"outlinewidth\": 0, \"ticks\": \"\"}, \"type\": \"contourcarpet\"}], \"heatmap\": [{\"colorbar\": {\"outlinewidth\": 0, \"ticks\": \"\"}, \"colorscale\": [[0.0, \"#0d0887\"], [0.1111111111111111, \"#46039f\"], [0.2222222222222222, \"#7201a8\"], [0.3333333333333333, \"#9c179e\"], [0.4444444444444444, \"#bd3786\"], [0.5555555555555556, \"#d8576b\"], [0.6666666666666666, \"#ed7953\"], [0.7777777777777778, \"#fb9f3a\"], [0.8888888888888888, \"#fdca26\"], [1.0, \"#f0f921\"]], \"type\": \"heatmap\"}], \"heatmapgl\": [{\"colorbar\": {\"outlinewidth\": 0, \"ticks\": \"\"}, \"colorscale\": [[0.0, \"#0d0887\"], [0.1111111111111111, \"#46039f\"], [0.2222222222222222, \"#7201a8\"], [0.3333333333333333, \"#9c179e\"], [0.4444444444444444, \"#bd3786\"], [0.5555555555555556, \"#d8576b\"], [0.6666666666666666, \"#ed7953\"], [0.7777777777777778, \"#fb9f3a\"], [0.8888888888888888, \"#fdca26\"], [1.0, \"#f0f921\"]], \"type\": \"heatmapgl\"}], \"histogram\": [{\"marker\": {\"colorbar\": {\"outlinewidth\": 0, \"ticks\": \"\"}}, \"type\": \"histogram\"}], \"histogram2d\": [{\"colorbar\": {\"outlinewidth\": 0, \"ticks\": \"\"}, \"colorscale\": [[0.0, \"#0d0887\"], [0.1111111111111111, \"#46039f\"], [0.2222222222222222, \"#7201a8\"], [0.3333333333333333, \"#9c179e\"], [0.4444444444444444, \"#bd3786\"], [0.5555555555555556, \"#d8576b\"], [0.6666666666666666, \"#ed7953\"], [0.7777777777777778, \"#fb9f3a\"], [0.8888888888888888, \"#fdca26\"], [1.0, \"#f0f921\"]], \"type\": \"histogram2d\"}], \"histogram2dcontour\": [{\"colorbar\": {\"outlinewidth\": 0, \"ticks\": \"\"}, \"colorscale\": [[0.0, \"#0d0887\"], [0.1111111111111111, \"#46039f\"], [0.2222222222222222, \"#7201a8\"], [0.3333333333333333, \"#9c179e\"], [0.4444444444444444, \"#bd3786\"], [0.5555555555555556, \"#d8576b\"], [0.6666666666666666, \"#ed7953\"], [0.7777777777777778, \"#fb9f3a\"], [0.8888888888888888, \"#fdca26\"], [1.0, \"#f0f921\"]], \"type\": \"histogram2dcontour\"}], \"mesh3d\": [{\"colorbar\": {\"outlinewidth\": 0, \"ticks\": \"\"}, \"type\": \"mesh3d\"}], \"parcoords\": [{\"line\": {\"colorbar\": {\"outlinewidth\": 0, \"ticks\": \"\"}}, \"type\": \"parcoords\"}], \"pie\": [{\"automargin\": true, \"type\": \"pie\"}], \"scatter\": [{\"marker\": {\"colorbar\": {\"outlinewidth\": 0, \"ticks\": \"\"}}, \"type\": \"scatter\"}], \"scatter3d\": [{\"line\": {\"colorbar\": {\"outlinewidth\": 0, \"ticks\": \"\"}}, \"marker\": {\"colorbar\": {\"outlinewidth\": 0, \"ticks\": \"\"}}, \"type\": \"scatter3d\"}], \"scattercarpet\": [{\"marker\": {\"colorbar\": {\"outlinewidth\": 0, \"ticks\": \"\"}}, \"type\": \"scattercarpet\"}], \"scattergeo\": [{\"marker\": {\"colorbar\": {\"outlinewidth\": 0, \"ticks\": \"\"}}, \"type\": \"scattergeo\"}], \"scattergl\": [{\"marker\": {\"colorbar\": {\"outlinewidth\": 0, \"ticks\": \"\"}}, \"type\": \"scattergl\"}], \"scattermapbox\": [{\"marker\": {\"colorbar\": {\"outlinewidth\": 0, \"ticks\": \"\"}}, \"type\": \"scattermapbox\"}], \"scatterpolar\": [{\"marker\": {\"colorbar\": {\"outlinewidth\": 0, \"ticks\": \"\"}}, \"type\": \"scatterpolar\"}], \"scatterpolargl\": [{\"marker\": {\"colorbar\": {\"outlinewidth\": 0, \"ticks\": \"\"}}, \"type\": \"scatterpolargl\"}], \"scatterternary\": [{\"marker\": {\"colorbar\": {\"outlinewidth\": 0, \"ticks\": \"\"}}, \"type\": \"scatterternary\"}], \"surface\": [{\"colorbar\": {\"outlinewidth\": 0, \"ticks\": \"\"}, \"colorscale\": [[0.0, \"#0d0887\"], [0.1111111111111111, \"#46039f\"], [0.2222222222222222, \"#7201a8\"], [0.3333333333333333, \"#9c179e\"], [0.4444444444444444, \"#bd3786\"], [0.5555555555555556, \"#d8576b\"], [0.6666666666666666, \"#ed7953\"], [0.7777777777777778, \"#fb9f3a\"], [0.8888888888888888, \"#fdca26\"], [1.0, \"#f0f921\"]], \"type\": \"surface\"}], \"table\": [{\"cells\": {\"fill\": {\"color\": \"#EBF0F8\"}, \"line\": {\"color\": \"white\"}}, \"header\": {\"fill\": {\"color\": \"#C8D4E3\"}, \"line\": {\"color\": \"white\"}}, \"type\": \"table\"}]}, \"layout\": {\"annotationdefaults\": {\"arrowcolor\": \"#2a3f5f\", \"arrowhead\": 0, \"arrowwidth\": 1}, \"coloraxis\": {\"colorbar\": {\"outlinewidth\": 0, \"ticks\": \"\"}}, \"colorscale\": {\"diverging\": [[0, \"#8e0152\"], [0.1, \"#c51b7d\"], [0.2, \"#de77ae\"], [0.3, \"#f1b6da\"], [0.4, \"#fde0ef\"], [0.5, \"#f7f7f7\"], [0.6, \"#e6f5d0\"], [0.7, \"#b8e186\"], [0.8, \"#7fbc41\"], [0.9, \"#4d9221\"], [1, \"#276419\"]], \"sequential\": [[0.0, \"#0d0887\"], [0.1111111111111111, \"#46039f\"], [0.2222222222222222, \"#7201a8\"], [0.3333333333333333, \"#9c179e\"], [0.4444444444444444, \"#bd3786\"], [0.5555555555555556, \"#d8576b\"], [0.6666666666666666, \"#ed7953\"], [0.7777777777777778, \"#fb9f3a\"], [0.8888888888888888, \"#fdca26\"], [1.0, \"#f0f921\"]], \"sequentialminus\": [[0.0, \"#0d0887\"], [0.1111111111111111, \"#46039f\"], [0.2222222222222222, \"#7201a8\"], [0.3333333333333333, \"#9c179e\"], [0.4444444444444444, \"#bd3786\"], [0.5555555555555556, \"#d8576b\"], [0.6666666666666666, \"#ed7953\"], [0.7777777777777778, \"#fb9f3a\"], [0.8888888888888888, \"#fdca26\"], [1.0, \"#f0f921\"]]}, \"colorway\": [\"#636efa\", \"#EF553B\", \"#00cc96\", \"#ab63fa\", \"#FFA15A\", \"#19d3f3\", \"#FF6692\", \"#B6E880\", \"#FF97FF\", \"#FECB52\"], \"font\": {\"color\": \"#2a3f5f\"}, \"geo\": {\"bgcolor\": \"white\", \"lakecolor\": \"white\", \"landcolor\": \"#E5ECF6\", \"showlakes\": true, \"showland\": true, \"subunitcolor\": \"white\"}, \"hoverlabel\": {\"align\": \"left\"}, \"hovermode\": \"closest\", \"mapbox\": {\"style\": \"light\"}, \"paper_bgcolor\": \"white\", \"plot_bgcolor\": \"#E5ECF6\", \"polar\": {\"angularaxis\": {\"gridcolor\": \"white\", \"linecolor\": \"white\", \"ticks\": \"\"}, \"bgcolor\": \"#E5ECF6\", \"radialaxis\": {\"gridcolor\": \"white\", \"linecolor\": \"white\", \"ticks\": \"\"}}, \"scene\": {\"xaxis\": {\"backgroundcolor\": \"#E5ECF6\", \"gridcolor\": \"white\", \"gridwidth\": 2, \"linecolor\": \"white\", \"showbackground\": true, \"ticks\": \"\", \"zerolinecolor\": \"white\"}, \"yaxis\": {\"backgroundcolor\": \"#E5ECF6\", \"gridcolor\": \"white\", \"gridwidth\": 2, \"linecolor\": \"white\", \"showbackground\": true, \"ticks\": \"\", \"zerolinecolor\": \"white\"}, \"zaxis\": {\"backgroundcolor\": \"#E5ECF6\", \"gridcolor\": \"white\", \"gridwidth\": 2, \"linecolor\": \"white\", \"showbackground\": true, \"ticks\": \"\", \"zerolinecolor\": \"white\"}}, \"shapedefaults\": {\"line\": {\"color\": \"#2a3f5f\"}}, \"ternary\": {\"aaxis\": {\"gridcolor\": \"white\", \"linecolor\": \"white\", \"ticks\": \"\"}, \"baxis\": {\"gridcolor\": \"white\", \"linecolor\": \"white\", \"ticks\": \"\"}, \"bgcolor\": \"#E5ECF6\", \"caxis\": {\"gridcolor\": \"white\", \"linecolor\": \"white\", \"ticks\": \"\"}}, \"title\": {\"x\": 0.05}, \"xaxis\": {\"automargin\": true, \"gridcolor\": \"white\", \"linecolor\": \"white\", \"ticks\": \"\", \"title\": {\"standoff\": 15}, \"zerolinecolor\": \"white\", \"zerolinewidth\": 2}, \"yaxis\": {\"automargin\": true, \"gridcolor\": \"white\", \"linecolor\": \"white\", \"ticks\": \"\", \"title\": {\"standoff\": 15}, \"zerolinecolor\": \"white\", \"zerolinewidth\": 2}}}, \"width\": 500, \"xaxis\": {\"title\": {\"text\": \"x\"}}, \"yaxis\": {\"title\": {\"text\": \"y\"}}},\n",
       "                        {\"responsive\": true}\n",
       "                    ).then(function(){\n",
       "                            \n",
       "var gd = document.getElementById('b11e5a1b-d36b-4840-beb0-a8048f9060d0');\n",
       "var x = new MutationObserver(function (mutations, observer) {{\n",
       "        var display = window.getComputedStyle(gd).display;\n",
       "        if (!display || display === 'none') {{\n",
       "            console.log([gd, 'removed!']);\n",
       "            Plotly.purge(gd);\n",
       "            observer.disconnect();\n",
       "        }}\n",
       "}});\n",
       "\n",
       "// Listen for the removal of the full notebook cells\n",
       "var notebookContainer = gd.closest('#notebook-container');\n",
       "if (notebookContainer) {{\n",
       "    x.observe(notebookContainer, {childList: true});\n",
       "}}\n",
       "\n",
       "// Listen for the clearing of the current output cell\n",
       "var outputEl = gd.closest('.output');\n",
       "if (outputEl) {{\n",
       "    x.observe(outputEl, {childList: true});\n",
       "}}\n",
       "\n",
       "                        })\n",
       "                };\n",
       "                });\n",
       "            </script>\n",
       "        </div>"
      ]
     },
     "metadata": {},
     "output_type": "display_data"
    }
   ],
   "source": [
    "data = pd.read_csv('tsp.csv', header=None)\n",
    "data.columns = ['vertex', 'x', 'y']\n",
    "n = data.shape[0]\n",
    "G = np.zeros([n, n])\n",
    "for i in np.arange(n):\n",
    "    for j in np.arange(n):\n",
    "        if i != j:\n",
    "            G[i, j] = np.sum(np.abs(data[data.vertex == (i+1)][['x', 'y']].values - data[data.vertex == (j+1)][['x', 'y']].values))\n",
    "length=0\n",
    "vertexes = np.arange(G.shape[0])\n",
    "best_route = None\n",
    "best_length = None\n",
    "for i in np.arange(100000):\n",
    "    route = vertexes.copy()\n",
    "    np.random.shuffle(route)\n",
    "    for i in range(0, len(route)-1):\n",
    "        length+= G[route[i], route[i+1]]\n",
    "    if not best_length or lenght < best_lenght:\n",
    "        best_route = route\n",
    "        best_lenght = length\n",
    "    length=0\n",
    "print(\"Route length:\", best_lenght)\n",
    "track = []\n",
    "track.append(go.Scatter(x=data.x, y=data.y, mode='markers', marker=dict(size=14, color='black')))\n",
    "start_x, start_y = data[data.vertex == (best_route[0]+1)][['x', 'y']].values[0]\n",
    "stop_x, stop_y = data[data.vertex == (best_route[-1]+1)][['x', 'y']].values[0]\n",
    "track.append(go.Scatter(x=[start_x, stop_x], y=[start_y, stop_y],mode='markers', marker=dict(size=20, color='red')))\n",
    "track.append(go.Scatter(x=data.x, y=data.y, mode='markers', marker=dict(size=14, color='black')))\n",
    "for i in range(0, len(best_route)-1):\n",
    "    from_x, from_y = data[data.vertex == (best_route[i]+1)][['x', 'y']].values[0]\n",
    "    to_x, to_y = data[data.vertex == (best_route[i+1]+1)][['x', 'y']].values[0]\n",
    "    track.append(go.Scatter(x=[from_x, to_x, to_x], y=[from_y, from_y, to_y], line=dict(color='green')))\n",
    "fig = go.Figure(track, layout=go.Layout(width=500, height=500, showlegend=False))\n",
    "fig.update_xaxes(title='x')\n",
    "fig.update_yaxes(title='y')\n",
    "iplot(fig)"
   ]
  },
  {
   "cell_type": "code",
   "execution_count": null,
   "metadata": {},
   "outputs": [],
   "source": []
  }
 ],
 "metadata": {
  "kernelspec": {
   "display_name": "Python 3",
   "language": "python",
   "name": "python3"
  },
  "language_info": {
   "codemirror_mode": {
    "name": "ipython",
    "version": 3
   },
   "file_extension": ".py",
   "mimetype": "text/x-python",
   "name": "python",
   "nbconvert_exporter": "python",
   "pygments_lexer": "ipython3",
   "version": "3.7.4"
  }
 },
 "nbformat": 4,
 "nbformat_minor": 2
}
