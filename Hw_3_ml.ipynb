{
 "cells": [
  {
   "cell_type": "code",
   "execution_count": 1,
   "metadata": {},
   "outputs": [],
   "source": [
    "import pandas as pd\n",
    "import numpy as np\n",
    "import pprint\n",
    "import matplotlib.pyplot as plt\n",
    "import seaborn as sns; sns.set()"
   ]
  },
  {
   "cell_type": "markdown",
   "metadata": {},
   "source": [
    "# ROC AUC "
   ]
  },
  {
   "cell_type": "markdown",
   "metadata": {},
   "source": [
    "ROC-AUC строится, когда сортируем результаты классификатора по вероятности, по ним строим кривую и считаем площадь. Тут мы смотрим, что будет, если мы будем \"классифицировать\" по одной фиче. Сортируем фичу и соответствующие ей y по значению фичи. Т.е говорим: \"Давайте предсказывать y по одной фиче\". И порогоровое условие - это место, где говорим:  \"если фича больше этого порога, то класс - 1\". Считаем для каждой фичи auc, где вместо вероятности берем само значение фичи, и потом для трех лучших фич по auc рисуем roc-curve"
   ]
  },
  {
   "cell_type": "code",
   "execution_count": 2,
   "metadata": {},
   "outputs": [],
   "source": [
    "def ROC_AUC(y, prob):\n",
    "    res = sorted(list(zip(prob, y)), reverse=True)\n",
    "    step_x = 1/np.where(y != 1)[0].shape[0]\n",
    "    step_y = 1/np.where(y == 1)[0].shape[0]\n",
    "    points_x = [0]\n",
    "    points_y = [0]\n",
    "    last_x = 0\n",
    "    last_y = 0\n",
    "    auc = 0\n",
    "    for prob, sample_y in res:\n",
    "        if sample_y == 1:\n",
    "            points_x.append(last_x)\n",
    "            last_y += step_y\n",
    "            points_y.append(last_y)\n",
    "        else:\n",
    "            points_y.append(last_y)\n",
    "            last_x += step_x\n",
    "            points_x.append(last_x)\n",
    "            auc += step_x * last_y\n",
    "    return auc, points_x, points_y"
   ]
  },
  {
   "cell_type": "markdown",
   "metadata": {},
   "source": [
    "# Spam"
   ]
  },
  {
   "cell_type": "code",
   "execution_count": 3,
   "metadata": {},
   "outputs": [
    {
     "name": "stdout",
     "output_type": "stream",
     "text": [
      "feature: word_freq_3d auc: 0.9971808103597595\n",
      "feature: word_freq_font auc: 0.9922898625501807\n",
      "feature: word_freq_remove auc: 0.9879969786200758\n"
     ]
    }
   ],
   "source": [
    "df = pd.read_csv(\"spam.csv\")\n",
    "X = df[df.columns.difference(['label'])]\n",
    "y = df.label.values\n",
    "aucs=[]\n",
    "for column in X.columns:\n",
    "    auc, points_x, points_y = ROC_AUC(y, X[column].values)\n",
    "    aucs.append(auc)\n",
    "ind=np.array(aucs).argsort()\n",
    "print(\"feature:\", X.columns[ind[ind.shape[0]-1]], \"auc:\", aucs[ind[ind.shape[0]-1]])\n",
    "print(\"feature:\", X.columns[ind[ind.shape[0]-2]], \"auc:\", aucs[ind[ind.shape[0]-2]])\n",
    "print(\"feature:\", X.columns[ind[ind.shape[0]-3]], \"auc:\", aucs[ind[ind.shape[0]-3]])"
   ]
  },
  {
   "cell_type": "code",
   "execution_count": 4,
   "metadata": {},
   "outputs": [
    {
     "data": {
      "text/plain": [
       "[<matplotlib.lines.Line2D at 0x7f94c3c3ebd0>]"
      ]
     },
     "execution_count": 4,
     "metadata": {},
     "output_type": "execute_result"
    },
    {
     "data": {
      "image/png": "[encoded data removed]",
      "text/plain": [
       "<Figure size 432x288 with 1 Axes>"
      ]
     },
     "metadata": {
      "needs_background": "light"
     },
     "output_type": "display_data"
    }
   ],
   "source": [
    "feature = 'word_freq_3d'\n",
    "auc, points_x, points_y = ROC_AUC(y, X[feature].values)\n",
    "plt.plot(points_x, points_y)"
   ]
  },
  {
   "cell_type": "code",
   "execution_count": 5,
   "metadata": {},
   "outputs": [
    {
     "data": {
      "text/plain": [
       "[<matplotlib.lines.Line2D at 0x7f94c3912f10>]"
      ]
     },
     "execution_count": 5,
     "metadata": {},
     "output_type": "execute_result"
    },
    {
     "data": {
      "image/png": "[encoded data removed]",
      "text/plain": [
       "<Figure size 432x288 with 1 Axes>"
      ]
     },
     "metadata": {
      "needs_background": "light"
     },
     "output_type": "display_data"
    }
   ],
   "source": [
    "feature = 'word_freq_font'\n",
    "auc, points_x, points_y = ROC_AUC(y, X[feature].values)\n",
    "plt.plot(points_x, points_y)"
   ]
  },
  {
   "cell_type": "code",
   "execution_count": 6,
   "metadata": {},
   "outputs": [
    {
     "data": {
      "text/plain": [
       "[<matplotlib.lines.Line2D at 0x7f94c391cb50>]"
      ]
     },
     "execution_count": 6,
     "metadata": {},
     "output_type": "execute_result"
    },
    {
     "data": {
      "image/png": "[encoded data removed]",
      "text/plain": [
       "<Figure size 432x288 with 1 Axes>"
      ]
     },
     "metadata": {
      "needs_background": "light"
     },
     "output_type": "display_data"
    }
   ],
   "source": [
    "feature = 'word_freq_remove'\n",
    "auc, points_x, points_y = ROC_AUC(y, X[feature].values)\n",
    "plt.plot(points_x, points_y)"
   ]
  },
  {
   "cell_type": "markdown",
   "metadata": {},
   "source": [
    "# Cancer"
   ]
  },
  {
   "cell_type": "code",
   "execution_count": 7,
   "metadata": {},
   "outputs": [
    {
     "name": "stdout",
     "output_type": "stream",
     "text": [
      "feature: 23 auc: 0.9755562602399477\n",
      "feature: 21 auc: 0.9705618096295139\n",
      "feature: 24 auc: 0.9698615295174705\n"
     ]
    }
   ],
   "source": [
    "df = pd.read_csv(\"cancer.csv\")\n",
    "X = df[df.columns.difference(['label'])]\n",
    "y = df.label.values\n",
    "for i in range(y.shape[0]):\n",
    "    if(y[i]=='M'):\n",
    "        y[i]=1\n",
    "    else:\n",
    "        y[i]=0\n",
    "aucs=[]\n",
    "for column in X.columns:\n",
    "    auc, points_x, points_y = ROC_AUC(y, X[column].values)\n",
    "    aucs.append(auc)\n",
    "ind=np.array(aucs).argsort()\n",
    "print(\"feature:\", X.columns[ind[ind.shape[0]-1]], \"auc:\", aucs[ind[ind.shape[0]-1]])\n",
    "print(\"feature:\", X.columns[ind[ind.shape[0]-2]], \"auc:\", aucs[ind[ind.shape[0]-2]])\n",
    "print(\"feature:\", X.columns[ind[ind.shape[0]-3]], \"auc:\", aucs[ind[ind.shape[0]-3]])"
   ]
  },
  {
   "cell_type": "code",
   "execution_count": 8,
   "metadata": {},
   "outputs": [
    {
     "data": {
      "text/plain": [
       "[<matplotlib.lines.Line2D at 0x7f94c3ca9110>]"
      ]
     },
     "execution_count": 8,
     "metadata": {},
     "output_type": "execute_result"
    },
    {
     "data": {
      "image/png": "[encoded data removed]",
      "text/plain": [
       "<Figure size 432x288 with 1 Axes>"
      ]
     },
     "metadata": {
      "needs_background": "light"
     },
     "output_type": "display_data"
    }
   ],
   "source": [
    "feature = '23'\n",
    "auc, points_x, points_y = ROC_AUC(y, X[feature].values)\n",
    "plt.plot(points_x, points_y)"
   ]
  },
  {
   "cell_type": "code",
   "execution_count": 9,
   "metadata": {},
   "outputs": [
    {
     "data": {
      "text/plain": [
       "[<matplotlib.lines.Line2D at 0x7f94c3871c10>]"
      ]
     },
     "execution_count": 9,
     "metadata": {},
     "output_type": "execute_result"
    },
    {
     "data": {
      "image/png": "[encoded data removed]",
      "text/plain": [
       "<Figure size 432x288 with 1 Axes>"
      ]
     },
     "metadata": {
      "needs_background": "light"
     },
     "output_type": "display_data"
    }
   ],
   "source": [
    "feature = '21'\n",
    "auc, points_x, points_y = ROC_AUC(y, X[feature].values)\n",
    "plt.plot(points_x, points_y)"
   ]
  },
  {
   "cell_type": "code",
   "execution_count": 10,
   "metadata": {},
   "outputs": [
    {
     "data": {
      "text/plain": [
       "[<matplotlib.lines.Line2D at 0x7f94c3ea5250>]"
      ]
     },
     "execution_count": 10,
     "metadata": {},
     "output_type": "execute_result"
    },
    {
     "data": {
      "image/png": "[encoded data removed]",
      "text/plain": [
       "<Figure size 432x288 with 1 Axes>"
      ]
     },
     "metadata": {
      "needs_background": "light"
     },
     "output_type": "display_data"
    }
   ],
   "source": [
    "feature = '24'\n",
    "auc, points_x, points_y = ROC_AUC(y, X[feature].values)\n",
    "plt.plot(points_x, points_y)"
   ]
  },
  {
   "cell_type": "markdown",
   "metadata": {},
   "source": [
    "# Split the data"
   ]
  },
  {
   "cell_type": "code",
   "execution_count": 11,
   "metadata": {},
   "outputs": [],
   "source": [
    "#Spam\n",
    "df = pd.read_csv('spam.csv')\n",
    "train = df.sample(frac = 0.8, random_state = 200)\n",
    "test = df.drop(train.index)"
   ]
  },
  {
   "cell_type": "code",
   "execution_count": 12,
   "metadata": {},
   "outputs": [
    {
     "name": "stdout",
     "output_type": "stream",
     "text": [
      "Check proportions\n",
      "Train 1st class share: 0.39663135017658246\n",
      "Test 1st class share: 0.38369565217391305\n"
     ]
    }
   ],
   "source": [
    "print(\"Check proportions\")\n",
    "print(\"Train 1st class share:\", train.label.values[train.label.values == 1].shape[0] / train.label.values.shape[0])\n",
    "print(\"Test 1st class share:\", test.label.values[test.label.values == 1].shape[0] / test.label.values.shape[0])\n"
   ]
  },
  {
   "cell_type": "code",
   "execution_count": 13,
   "metadata": {},
   "outputs": [],
   "source": [
    "#Cancer\n",
    "df_1 = pd.read_csv('cancer.csv')\n",
    "for i in range(df_1.label.values.shape[0]):\n",
    "    if(df_1.label.values[i]=='M'):\n",
    "        df_1.label.values[i]=1\n",
    "    else:\n",
    "        df_1.label.values[i]=0\n",
    "train_1 = df_1.sample(frac = 0.8, random_state=45)\n",
    "test_1 = df_1.drop(train_1.index)"
   ]
  },
  {
   "cell_type": "code",
   "execution_count": 14,
   "metadata": {},
   "outputs": [
    {
     "name": "stdout",
     "output_type": "stream",
     "text": [
      "Check proportions\n",
      "Train 1st class share: 0.37362637362637363\n",
      "Test 1st class share: 0.3684210526315789\n"
     ]
    }
   ],
   "source": [
    "print(\"Check proportions\")\n",
    "print(\"Train 1st class share:\", train_1.label.values[train_1.label.values == 1].shape[0] / train_1.label.values.shape[0])\n",
    "print(\"Test 1st class share:\", test_1.label.values[test_1.label.values == 1].shape[0] / test_1.label.values.shape[0])\n"
   ]
  },
  {
   "cell_type": "markdown",
   "metadata": {},
   "source": [
    "# Decision tree"
   ]
  },
  {
   "cell_type": "code",
   "execution_count": 15,
   "metadata": {},
   "outputs": [],
   "source": [
    "def calc_entropy(table):\n",
    "    target = table.keys()[-1]\n",
    "    entropy = 0\n",
    "    values = table[target].unique() \n",
    "    for value in values:\n",
    "        frac = table[target].value_counts()[value]/len(table[target])\n",
    "        if frac == 0:\n",
    "            return 0\n",
    "        entropy += -frac*np.log2(frac)\n",
    "    return(entropy) # returns entropy of whole dataset"
   ]
  },
  {
   "cell_type": "code",
   "execution_count": 16,
   "metadata": {},
   "outputs": [],
   "source": [
    "def impurity(table, feature,mode, data):\n",
    "    target = table.keys()[-1]\n",
    "    variables = table[feature].unique() \n",
    "    target_variables = table[target].unique() \n",
    "    info = 0\n",
    "    if mode is 'entropy':\n",
    "        for v in variables:\n",
    "            entropy = 0\n",
    "            for target_v in target_variables:\n",
    "                n = len(table[feature][table[feature] == v][table[target] == target_v])\n",
    "                d = len(table[feature][table[feature] == v])\n",
    "                frac1 = n/(d + np.finfo(float).eps) \n",
    "                if frac1 == 0:\n",
    "                    entropy += 0\n",
    "                else:\n",
    "                    entropy += -frac1 * np.log2(frac1)\n",
    "            frac2 = d/len(table)\n",
    "            info += -frac2 * entropy\n",
    "        return abs(info)\n",
    "    elif mode is 'gini':\n",
    "        num_of_ones = table['label'].tolist().count(1)\n",
    "        p = num_of_ones/float(len(data.index))\n",
    "        gini_index = 2*p*(1-p)\n",
    "        return gini_index\n",
    "    elif mode is 'misclassification':\n",
    "        num_of_ones = table['label'].tolist().count(1)\n",
    "        p = num_of_ones/float(len(data.index))\n",
    "        missclasification = min(p,1-p)\n",
    "        return missclasification"
   ]
  },
  {
   "cell_type": "code",
   "execution_count": 17,
   "metadata": {},
   "outputs": [],
   "source": [
    "def winner_feature(table, feature_list,mode, data):\n",
    "    info_gain = []\n",
    "    if len(feature_list) == 1:\n",
    "        return feature_list[0]\n",
    "    for feature in feature_list:\n",
    "        if mode is 'entropy':\n",
    "            info_gain.append(calc_entropy(table) - impurity(table, feature, 'entropy', data))\n",
    "        elif mode is 'gini':\n",
    "            info_gain.append(calc_entropy(table) - impurity(table, feature, 'gini', data))\n",
    "        elif mode is 'misclassification':\n",
    "            info_gain.append(calc_entropy(table) - impurity(table, feature, 'misclassification', data))\n",
    "    return feature_list[np.argmax(info_gain)]"
   ]
  },
  {
   "cell_type": "code",
   "execution_count": 18,
   "metadata": {},
   "outputs": [],
   "source": [
    "def build_tree(table, prev_table, feature_list, mode, data, tree = None):\n",
    "    if len(table['label'].unique()) <= 1:\n",
    "        return {'leaf' : table['label'].unique()[0]}\n",
    "    elif len(table) == 0:\n",
    "        return {'leaf': np.unique(table['label'])[np.argmax(np.unique(table['label'], return_counts = True)[1])]}\n",
    "    elif len(feature_list) == 0:\n",
    "        return {'leaf': np.unique(table['label'])[np.argmax(np.unique(table['label'], return_counts = True)[1])]}\n",
    "    node = winner_feature(table, feature_list, mode, data)\n",
    "    feature_list.remove(node)\n",
    "    if tree is None:\n",
    "        tree = {}\n",
    "        tree[node] = {}\n",
    "        tree['default'] = np.unique(table['label'])[(np.argmax(np.unique(table['label'], return_counts = True)[1]))]\n",
    "    for v in table[node].unique():\n",
    "        mod_table = table.where(table[node] == v).dropna()\n",
    "        tree[node][v] = build_tree(mod_table, table, feature_list[:], mode, data)\n",
    "    return tree"
   ]
  },
  {
   "cell_type": "code",
   "execution_count": 19,
   "metadata": {},
   "outputs": [],
   "source": [
    "def pred(query, tree):\n",
    "    try:\n",
    "        if list(tree.keys())[0] == 'leaf':\n",
    "            return tree['leaf']\n",
    "        if list(tree.keys())[0] is 'default':\n",
    "            val = query[list(tree.keys())[1]]\n",
    "            next = list(tree.keys())[1]\n",
    "        else:\n",
    "            val = query[list(tree.keys())[0]]\n",
    "            next = list(tree.keys())[0]\n",
    "        return pred(query, tree[next][val])\n",
    "    except:\n",
    "        return 0\n",
    "predicted = []\n",
    "def prediction(tree, data):\n",
    "    for index, row in data.iterrows():\n",
    "        predicted.append(pred(row, tree))"
   ]
  },
  {
   "cell_type": "code",
   "execution_count": 20,
   "metadata": {},
   "outputs": [],
   "source": [
    "def calc_metrics(predictions, actual):\n",
    "    tp, tn, fp, fn = 0, 0, 0, 0\n",
    "    for i in range(len(actual)):\n",
    "        if actual[i] == predictions[i] and actual[i] == 1:\n",
    "            tp += 1\n",
    "        elif actual[i] == predictions[i] and actual[i] == 0:\n",
    "            tn += 1\n",
    "        elif actual[i] != predictions[i] and actual[i] == 0:\n",
    "            fp += 1\n",
    "        else:\n",
    "            fn += 1\n",
    "    accuracy = (tn + tp)/(tn + tp + fp + fn)\n",
    "    if tp + fp == 0:\n",
    "        return accuracy\n",
    "    return accuracy\n",
    "    print('Accuracy - ', accuracy)"
   ]
  },
  {
   "cell_type": "code",
   "execution_count": 21,
   "metadata": {},
   "outputs": [],
   "source": [
    "def prediction_util(query, tree, current_depth, max_depth):\n",
    "    try:\n",
    "        if list(tree.keys())[0] == 'leaf':\n",
    "            new_prediction_dict[max_depth].append(tree['leaf'])\n",
    "            return\n",
    "        if list(tree.keys())[0] == 'default':\n",
    "            val = query[list(tree.keys())[1]]\n",
    "            next = list(tree.keys())[1]\n",
    "        else:\n",
    "            val = query[list(tree.keys())[0]]\n",
    "            next = list(tree.keys())[0]\n",
    "        if(current_depth == max_depth):\n",
    "            new_prediction_dict[current_depth].append(tree['default'])\n",
    "            return\n",
    "        prediction_util(query, tree[next][val], current_depth + 1, max_depth)\n",
    "    except:\n",
    "        new_prediction_dict[max_depth].append(0)\n",
    "\n",
    "def new_prediction(tree, data, max_depth):\n",
    "    for index, row in data.iterrows():\n",
    "        prediction_util(row, tree, 0, max_depth)"
   ]
  },
  {
   "cell_type": "markdown",
   "metadata": {},
   "source": [
    "# Spam"
   ]
  },
  {
   "cell_type": "markdown",
   "metadata": {},
   "source": [
    "Entropy"
   ]
  },
  {
   "cell_type": "code",
   "execution_count": 22,
   "metadata": {},
   "outputs": [
    {
     "name": "stdout",
     "output_type": "stream",
     "text": [
      "1 0.616304347826087\n",
      "2 0.683695652173913\n",
      "3 0.6989130434782609\n",
      "4 0.6989130434782609\n",
      "5 0.6989130434782609\n",
      "6 0.6989130434782609\n",
      "7 0.6989130434782609\n",
      "8 0.6989130434782609\n",
      "9 0.6989130434782609\n",
      "10 0.6967391304347826\n",
      "Best number of levels 9\n"
     ]
    },
    {
     "data": {
      "image/png": "[encoded data removed]",
      "text/plain": [
       "<Figure size 432x288 with 1 Axes>"
      ]
     },
     "metadata": {
      "needs_background": "light"
     },
     "output_type": "display_data"
    }
   ],
   "source": [
    "X = train[train.columns.difference(['label'])]\n",
    "tree = build_tree(train, train, list(X.columns), 'entropy', df)\n",
    "# pprint.pprint(tree)\n",
    "predicted = []\n",
    "prediction(tree, test)\n",
    "target = test['label'].tolist()\n",
    "calc_metrics(predicted, target)\n",
    "new_prediction_dict = {0: [], 1: [], 2: [], 3: [], 4: [], 5: [], 6: [], 7: [], 8: [], 9: []}\n",
    "for i in range(10):\n",
    "    new_prediction(tree, test, i)\n",
    "accuracy = []\n",
    "target = test['label'].tolist()\n",
    "for i in range(10):\n",
    "    print(i+1, calc_metrics(new_prediction_dict[i], target) )\n",
    "    accuracy.append(calc_metrics(new_prediction_dict[i], target))\n",
    "print('Best number of levels', np.array(accuracy).argsort()[np.array(accuracy).argsort().shape[0]-1]+1)\n",
    "plt.plot([i for i in range(0, 10)], accuracy)\n",
    "plt.title('accuracy v/s Depth in Validation')\n",
    "plt.xlabel('Number of Levels')\n",
    "plt.ylabel('Acuuracy Rate')\n",
    "plt.show()"
   ]
  },
  {
   "cell_type": "markdown",
   "metadata": {},
   "source": [
    "Gini"
   ]
  },
  {
   "cell_type": "code",
   "execution_count": 23,
   "metadata": {},
   "outputs": [
    {
     "name": "stdout",
     "output_type": "stream",
     "text": [
      "1 0.616304347826087\n",
      "2 0.683695652173913\n",
      "3 0.7032608695652174\n",
      "4 0.7032608695652174\n",
      "5 0.7032608695652174\n",
      "6 0.7032608695652174\n",
      "7 0.7032608695652174\n",
      "8 0.7032608695652174\n",
      "9 0.7032608695652174\n",
      "10 0.7032608695652174\n",
      "Best number of levels 10\n"
     ]
    },
    {
     "data": {
      "image/png": "[encoded data removed]",
      "text/plain": [
       "<Figure size 432x288 with 1 Axes>"
      ]
     },
     "metadata": {
      "needs_background": "light"
     },
     "output_type": "display_data"
    }
   ],
   "source": [
    "X = train[train.columns.difference(['label'])]\n",
    "tree = build_tree(train, train, list(X.columns), 'gini', df)\n",
    "# pprint.pprint(tree)\n",
    "predicted = []\n",
    "prediction(tree, test)\n",
    "target = test['label'].tolist()\n",
    "calc_metrics(predicted, target)\n",
    "new_prediction_dict = {0: [], 1: [], 2: [], 3: [], 4: [], 5: [], 6: [], 7: [], 8: [], 9: []}\n",
    "for i in range(10):\n",
    "    new_prediction(tree, test, i)\n",
    "accuracy = []\n",
    "target = test['label'].tolist()\n",
    "for i in range(10):\n",
    "    print(i+1, calc_metrics(new_prediction_dict[i], target) )\n",
    "    accuracy.append(calc_metrics(new_prediction_dict[i], target))\n",
    "print('Best number of levels', np.array(accuracy).argsort()[np.array(accuracy).argsort().shape[0]-1]+1)\n",
    "plt.plot([i for i in range(0, 10)], accuracy)\n",
    "plt.title('accuracy v/s Depth in Validation')\n",
    "plt.xlabel('Number of Levels')\n",
    "plt.ylabel('Acuuracy Rate')\n",
    "plt.show()"
   ]
  },
  {
   "cell_type": "markdown",
   "metadata": {},
   "source": [
    "Misclassification error"
   ]
  },
  {
   "cell_type": "code",
   "execution_count": 24,
   "metadata": {},
   "outputs": [
    {
     "name": "stdout",
     "output_type": "stream",
     "text": [
      "1 0.616304347826087\n",
      "2 0.683695652173913\n",
      "3 0.7032608695652174\n",
      "4 0.7032608695652174\n",
      "5 0.7032608695652174\n",
      "6 0.7032608695652174\n",
      "7 0.7032608695652174\n",
      "8 0.7032608695652174\n",
      "9 0.7032608695652174\n",
      "10 0.7032608695652174\n",
      "Best number of levels 10\n"
     ]
    },
    {
     "data": {
      "image/png": "[encoded data removed]",
      "text/plain": [
       "<Figure size 432x288 with 1 Axes>"
      ]
     },
     "metadata": {
      "needs_background": "light"
     },
     "output_type": "display_data"
    }
   ],
   "source": [
    "X = train[train.columns.difference(['label'])]\n",
    "tree = build_tree(train, train, list(X.columns), 'misclassification', df)\n",
    "# pprint.pprint(tree)\n",
    "predicted = []\n",
    "prediction(tree, test)\n",
    "target = test['label'].tolist()\n",
    "calc_metrics(predicted, target)\n",
    "new_prediction_dict = {0: [], 1: [], 2: [], 3: [], 4: [], 5: [], 6: [], 7: [], 8: [], 9: []}\n",
    "for i in range(10):\n",
    "    new_prediction(tree, test, i)\n",
    "accuracy = []\n",
    "target = test['label'].tolist()\n",
    "for i in range(10):\n",
    "    print(i+1, calc_metrics(new_prediction_dict[i], target) )\n",
    "    accuracy.append(calc_metrics(new_prediction_dict[i], target))\n",
    "print('Best number of levels', np.array(accuracy).argsort()[np.array(accuracy).argsort().shape[0]-1]+1)\n",
    "plt.plot([i for i in range(0, 10)], accuracy)\n",
    "plt.title('accuracy v/s Depth in Validation')\n",
    "plt.xlabel('Number of Levels')\n",
    "plt.ylabel('Acuuracy Rate')\n",
    "plt.show()"
   ]
  },
  {
   "cell_type": "markdown",
   "metadata": {},
   "source": [
    "# Cancer"
   ]
  },
  {
   "cell_type": "markdown",
   "metadata": {},
   "source": [
    "Entropy"
   ]
  },
  {
   "cell_type": "code",
   "execution_count": null,
   "metadata": {},
   "outputs": [],
   "source": [
    "X = train_1[train_1.columns.difference(['label'])]\n",
    "tree = build_tree(train_1, train_1, list(X.columns), 'entropy', df_1)\n",
    "# pprint.pprint(tree)\n",
    "predicted = []\n",
    "prediction(tree, test_1)\n",
    "target = test_1['label'].tolist()\n",
    "calc_metrics(predicted, target)\n",
    "new_prediction_dict = {0: [], 1: [], 2: [], 3: [], 4: [], 5: [], 6: [], 7: [], 8: [], 9: []}\n",
    "for i in range(10):\n",
    "    new_prediction(tree, test_1, i)\n",
    "accuracy = []\n",
    "target = test_1['label'].tolist()\n",
    "for i in range(10):\n",
    "    print(i+1, calc_metrics(new_prediction_dict[i], target) )\n",
    "    accuracy.append(calc_metrics(new_prediction_dict[i], target))\n",
    "print('Best number of levels', np.array(accuracy).argsort()[np.array(accuracy).argsort().shape[0]-1]+1)   \n",
    "plt.plot([i for i in range(0, 10)], accuracy)\n",
    "plt.title('accuracy v/s Depth in Validation')\n",
    "plt.xlabel('Number of Levels')\n",
    "plt.ylabel('Acuuracy Rate')\n",
    "plt.show()"
   ]
  },
  {
   "cell_type": "markdown",
   "metadata": {},
   "source": [
    "Gini"
   ]
  },
  {
   "cell_type": "code",
   "execution_count": null,
   "metadata": {},
   "outputs": [],
   "source": [
    "X = train_1[train_1.columns.difference(['label'])]\n",
    "tree = build_tree(train_1, train_1, list(X.columns), 'gini', df_1)\n",
    "# pprint.pprint(tree)\n",
    "predicted = []\n",
    "prediction(tree, test_1)\n",
    "target = test_1['label'].tolist()\n",
    "calc_metrics(predicted, target)\n",
    "new_prediction_dict = {0: [], 1: [], 2: [], 3: [], 4: [], 5: [], 6: [], 7: [], 8: [], 9: []}\n",
    "for i in range(10):\n",
    "    new_prediction(tree, test_1, i)\n",
    "accuracy = []\n",
    "target = test_1['label'].tolist()\n",
    "for i in range(10):\n",
    "    print(i+1, calc_metrics(new_prediction_dict[i], target) )\n",
    "    accuracy.append(calc_metrics(new_prediction_dict[i], target))\n",
    "print('Best number of levels', np.array(accuracy).argsort()[np.array(accuracy).argsort().shape[0]-1]+1)   \n",
    "plt.plot([i for i in range(0, 10)], accuracy)\n",
    "plt.title('accuracy v/s Depth in Validation')\n",
    "plt.xlabel('Number of Levels')\n",
    "plt.ylabel('Acuuracy Rate')\n",
    "plt.show()"
   ]
  },
  {
   "cell_type": "markdown",
   "metadata": {},
   "source": [
    "Misclassification error"
   ]
  },
  {
   "cell_type": "code",
   "execution_count": null,
   "metadata": {},
   "outputs": [],
   "source": [
    "X = train_1[train_1.columns.difference(['label'])]\n",
    "tree = build_tree(train_1, train_1, list(X.columns), 'misclassification', df_1)\n",
    "# pprint.pprint(tree)\n",
    "predicted = []\n",
    "prediction(tree, test_1)\n",
    "target = test_1['label'].tolist()\n",
    "calc_metrics(predicted, target)\n",
    "new_prediction_dict = {0: [], 1: [], 2: [], 3: [], 4: [], 5: [], 6: [], 7: [], 8: [], 9: []}\n",
    "for i in range(10):\n",
    "    new_prediction(tree, test_1, i)\n",
    "accuracy = []\n",
    "target = test_1['label'].tolist()\n",
    "for i in range(10):\n",
    "    print(i+1, calc_metrics(new_prediction_dict[i], target) )\n",
    "    accuracy.append(calc_metrics(new_prediction_dict[i], target))\n",
    "print('Best number of levels', np.array(accuracy).argsort()[np.array(accuracy).argsort().shape[0]-1]+1)   \n",
    "plt.plot([i for i in range(0, 10)], accuracy)\n",
    "plt.title('accuracy v/s Depth in Validation')\n",
    "plt.xlabel('Number of Levels')\n",
    "plt.ylabel('Acuuracy Rate')\n",
    "plt.show()"
   ]
  },
  {
   "cell_type": "code",
   "execution_count": null,
   "metadata": {},
   "outputs": [],
   "source": []
  }
 ],
 "metadata": {
  "kernelspec": {
   "display_name": "Python 3",
   "language": "python",
   "name": "python3"
  },
  "language_info": {
   "codemirror_mode": {
    "name": "ipython",
    "version": 3
   },
   "file_extension": ".py",
   "mimetype": "text/x-python",
   "name": "python",
   "nbconvert_exporter": "python",
   "pygments_lexer": "ipython3",
   "version": "3.7.4"
  }
 },
 "nbformat": 4,
 "nbformat_minor": 2
}
